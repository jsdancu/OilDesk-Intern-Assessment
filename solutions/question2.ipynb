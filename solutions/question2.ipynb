{
 "cells": [
  {
   "attachments": {},
   "cell_type": "markdown",
   "metadata": {},
   "source": [
    "## Question 2: CRUD Operations in SQL Server"
   ]
  },
  {
   "cell_type": "code",
   "execution_count": 1,
   "metadata": {},
   "outputs": [],
   "source": [
    "# Import Python packages\n",
    "import math\n",
    "import os\n",
    "import random\n",
    "import re\n",
    "import sys\n",
    "import numpy as np\n",
    "import pandas as pd\n",
    "import matplotlib.pyplot as plt\n",
    "import statistics\n",
    "from scipy import stats"
   ]
  },
  {
   "attachments": {},
   "cell_type": "markdown",
   "metadata": {},
   "source": [
    "Create an SQL table schema to store time-series metal prices. Include fields like Date, Metal, Price."
   ]
  },
  {
   "cell_type": "code",
   "execution_count": 5,
   "metadata": {},
   "outputs": [],
   "source": [
    "data_file = \"../data/MarketData.csv\"\n",
    "try:\n",
    "    # Read in data set from the csv file, skip initial metadata rows (first 3 rows)\n",
    "    f = open(data_file, 'rb')\n",
    "    df = pd.read_csv(f, skiprows = 3, header = [0, 1, 2, 3])\n",
    "\n",
    "    # Drop the first column name from the multi-index (for \"Dates\" column)\n",
    "    df.columns = ['Dates'] + [f\"{col[0]} ({col[1]})\" for col in df.columns[1:]]\n",
    "    \n",
    "except:\n",
    "    print('Error opening file/loading data')"
   ]
  },
  {
   "cell_type": "code",
   "execution_count": 6,
   "metadata": {},
   "outputs": [
    {
     "data": {
      "text/html": [
       "<div>\n",
       "<style scoped>\n",
       "    .dataframe tbody tr th:only-of-type {\n",
       "        vertical-align: middle;\n",
       "    }\n",
       "\n",
       "    .dataframe tbody tr th {\n",
       "        vertical-align: top;\n",
       "    }\n",
       "\n",
       "    .dataframe thead th {\n",
       "        text-align: right;\n",
       "    }\n",
       "</style>\n",
       "<table border=\"1\" class=\"dataframe\">\n",
       "  <thead>\n",
       "    <tr style=\"text-align: right;\">\n",
       "      <th></th>\n",
       "      <th>Dates</th>\n",
       "      <th>LME COPPER    3MO ($) (LMCADS03 Comdty)</th>\n",
       "      <th>LME ALUMINUM  3MO ($) (LMAHDS03 Comdty)</th>\n",
       "      <th>LME ZINC      3MO ($) (LMZSDS03 Comdty)</th>\n",
       "      <th>LME LEAD      3MO ($) (LMPBDS03 Comdty)</th>\n",
       "      <th>LME TIN       3MO ($) (LMSNDS03 Comdty)</th>\n",
       "      <th>Generic 1st 'CL' Future (CL1 Comdty)</th>\n",
       "    </tr>\n",
       "  </thead>\n",
       "  <tbody>\n",
       "    <tr>\n",
       "      <th>0</th>\n",
       "      <td>2010-01-01</td>\n",
       "      <td>7375.0</td>\n",
       "      <td>2230.0</td>\n",
       "      <td>2560.0</td>\n",
       "      <td>2432.0</td>\n",
       "      <td>16950</td>\n",
       "      <td>79.36</td>\n",
       "    </tr>\n",
       "    <tr>\n",
       "      <th>1</th>\n",
       "      <td>2010-01-04</td>\n",
       "      <td>7500.0</td>\n",
       "      <td>2267.0</td>\n",
       "      <td>2574.0</td>\n",
       "      <td>2515.0</td>\n",
       "      <td>17450</td>\n",
       "      <td>81.51</td>\n",
       "    </tr>\n",
       "    <tr>\n",
       "      <th>2</th>\n",
       "      <td>2010-01-05</td>\n",
       "      <td>7485.0</td>\n",
       "      <td>2302.0</td>\n",
       "      <td>2575.0</td>\n",
       "      <td>2522.5</td>\n",
       "      <td>17375</td>\n",
       "      <td>81.77</td>\n",
       "    </tr>\n",
       "    <tr>\n",
       "      <th>3</th>\n",
       "      <td>2010-01-06</td>\n",
       "      <td>7660.0</td>\n",
       "      <td>2377.0</td>\n",
       "      <td>2718.0</td>\n",
       "      <td>2680.0</td>\n",
       "      <td>17825</td>\n",
       "      <td>83.18</td>\n",
       "    </tr>\n",
       "    <tr>\n",
       "      <th>4</th>\n",
       "      <td>2010-01-07</td>\n",
       "      <td>7535.0</td>\n",
       "      <td>2310.0</td>\n",
       "      <td>2607.0</td>\n",
       "      <td>2599.0</td>\n",
       "      <td>17475</td>\n",
       "      <td>82.66</td>\n",
       "    </tr>\n",
       "    <tr>\n",
       "      <th>...</th>\n",
       "      <td>...</td>\n",
       "      <td>...</td>\n",
       "      <td>...</td>\n",
       "      <td>...</td>\n",
       "      <td>...</td>\n",
       "      <td>...</td>\n",
       "      <td>...</td>\n",
       "    </tr>\n",
       "    <tr>\n",
       "      <th>3386</th>\n",
       "      <td>2022-12-26</td>\n",
       "      <td>8349.5</td>\n",
       "      <td>2389.5</td>\n",
       "      <td>2965.0</td>\n",
       "      <td>2273.5</td>\n",
       "      <td>23934</td>\n",
       "      <td>79.56</td>\n",
       "    </tr>\n",
       "    <tr>\n",
       "      <th>3387</th>\n",
       "      <td>2022-12-27</td>\n",
       "      <td>8349.5</td>\n",
       "      <td>2389.5</td>\n",
       "      <td>2965.0</td>\n",
       "      <td>2273.5</td>\n",
       "      <td>23934</td>\n",
       "      <td>79.53</td>\n",
       "    </tr>\n",
       "    <tr>\n",
       "      <th>3388</th>\n",
       "      <td>2022-12-28</td>\n",
       "      <td>8443.0</td>\n",
       "      <td>2381.0</td>\n",
       "      <td>3005.5</td>\n",
       "      <td>2218.0</td>\n",
       "      <td>24734</td>\n",
       "      <td>78.96</td>\n",
       "    </tr>\n",
       "    <tr>\n",
       "      <th>3389</th>\n",
       "      <td>2022-12-29</td>\n",
       "      <td>8418.0</td>\n",
       "      <td>2405.0</td>\n",
       "      <td>2984.5</td>\n",
       "      <td>2272.5</td>\n",
       "      <td>24915</td>\n",
       "      <td>78.40</td>\n",
       "    </tr>\n",
       "    <tr>\n",
       "      <th>3390</th>\n",
       "      <td>2022-12-30</td>\n",
       "      <td>8372.0</td>\n",
       "      <td>2378.0</td>\n",
       "      <td>2972.5</td>\n",
       "      <td>2293.0</td>\n",
       "      <td>24808</td>\n",
       "      <td>80.26</td>\n",
       "    </tr>\n",
       "  </tbody>\n",
       "</table>\n",
       "<p>3391 rows × 7 columns</p>\n",
       "</div>"
      ],
      "text/plain": [
       "          Dates  LME COPPER    3MO ($) (LMCADS03 Comdty)  \\\n",
       "0    2010-01-01                                   7375.0   \n",
       "1    2010-01-04                                   7500.0   \n",
       "2    2010-01-05                                   7485.0   \n",
       "3    2010-01-06                                   7660.0   \n",
       "4    2010-01-07                                   7535.0   \n",
       "...         ...                                      ...   \n",
       "3386 2022-12-26                                   8349.5   \n",
       "3387 2022-12-27                                   8349.5   \n",
       "3388 2022-12-28                                   8443.0   \n",
       "3389 2022-12-29                                   8418.0   \n",
       "3390 2022-12-30                                   8372.0   \n",
       "\n",
       "      LME ALUMINUM  3MO ($) (LMAHDS03 Comdty)  \\\n",
       "0                                      2230.0   \n",
       "1                                      2267.0   \n",
       "2                                      2302.0   \n",
       "3                                      2377.0   \n",
       "4                                      2310.0   \n",
       "...                                       ...   \n",
       "3386                                   2389.5   \n",
       "3387                                   2389.5   \n",
       "3388                                   2381.0   \n",
       "3389                                   2405.0   \n",
       "3390                                   2378.0   \n",
       "\n",
       "      LME ZINC      3MO ($) (LMZSDS03 Comdty)  \\\n",
       "0                                      2560.0   \n",
       "1                                      2574.0   \n",
       "2                                      2575.0   \n",
       "3                                      2718.0   \n",
       "4                                      2607.0   \n",
       "...                                       ...   \n",
       "3386                                   2965.0   \n",
       "3387                                   2965.0   \n",
       "3388                                   3005.5   \n",
       "3389                                   2984.5   \n",
       "3390                                   2972.5   \n",
       "\n",
       "      LME LEAD      3MO ($) (LMPBDS03 Comdty)  \\\n",
       "0                                      2432.0   \n",
       "1                                      2515.0   \n",
       "2                                      2522.5   \n",
       "3                                      2680.0   \n",
       "4                                      2599.0   \n",
       "...                                       ...   \n",
       "3386                                   2273.5   \n",
       "3387                                   2273.5   \n",
       "3388                                   2218.0   \n",
       "3389                                   2272.5   \n",
       "3390                                   2293.0   \n",
       "\n",
       "      LME TIN       3MO ($) (LMSNDS03 Comdty)  \\\n",
       "0                                       16950   \n",
       "1                                       17450   \n",
       "2                                       17375   \n",
       "3                                       17825   \n",
       "4                                       17475   \n",
       "...                                       ...   \n",
       "3386                                    23934   \n",
       "3387                                    23934   \n",
       "3388                                    24734   \n",
       "3389                                    24915   \n",
       "3390                                    24808   \n",
       "\n",
       "      Generic 1st 'CL' Future (CL1 Comdty)  \n",
       "0                                    79.36  \n",
       "1                                    81.51  \n",
       "2                                    81.77  \n",
       "3                                    83.18  \n",
       "4                                    82.66  \n",
       "...                                    ...  \n",
       "3386                                 79.56  \n",
       "3387                                 79.53  \n",
       "3388                                 78.96  \n",
       "3389                                 78.40  \n",
       "3390                                 80.26  \n",
       "\n",
       "[3391 rows x 7 columns]"
      ]
     },
     "execution_count": 6,
     "metadata": {},
     "output_type": "execute_result"
    }
   ],
   "source": [
    "# Convert \"Dates\" column to datetime format, European date format\n",
    "df[\"Dates\"] = pd.to_datetime(df[\"Dates\"], dayfirst=True)\n",
    "\n",
    "# Display the first few rows\n",
    "df"
   ]
  },
  {
   "attachments": {},
   "cell_type": "markdown",
   "metadata": {},
   "source": [
    "The data has been read in \"wide format\". According to the instructions, we'd like to save it in \"long format\" in the SQL database, therefore me need to transform the pandas dataframe to long format\n"
   ]
  },
  {
   "cell_type": "code",
   "execution_count": 8,
   "metadata": {},
   "outputs": [
    {
     "data": {
      "text/html": [
       "<div>\n",
       "<style scoped>\n",
       "    .dataframe tbody tr th:only-of-type {\n",
       "        vertical-align: middle;\n",
       "    }\n",
       "\n",
       "    .dataframe tbody tr th {\n",
       "        vertical-align: top;\n",
       "    }\n",
       "\n",
       "    .dataframe thead th {\n",
       "        text-align: right;\n",
       "    }\n",
       "</style>\n",
       "<table border=\"1\" class=\"dataframe\">\n",
       "  <thead>\n",
       "    <tr style=\"text-align: right;\">\n",
       "      <th></th>\n",
       "      <th>Dates</th>\n",
       "      <th>Metal</th>\n",
       "      <th>Price</th>\n",
       "    </tr>\n",
       "  </thead>\n",
       "  <tbody>\n",
       "    <tr>\n",
       "      <th>0</th>\n",
       "      <td>2010-01-01</td>\n",
       "      <td>LME COPPER    3MO ($) (LMCADS03 Comdty)</td>\n",
       "      <td>7375.00</td>\n",
       "    </tr>\n",
       "    <tr>\n",
       "      <th>1</th>\n",
       "      <td>2010-01-04</td>\n",
       "      <td>LME COPPER    3MO ($) (LMCADS03 Comdty)</td>\n",
       "      <td>7500.00</td>\n",
       "    </tr>\n",
       "    <tr>\n",
       "      <th>2</th>\n",
       "      <td>2010-01-05</td>\n",
       "      <td>LME COPPER    3MO ($) (LMCADS03 Comdty)</td>\n",
       "      <td>7485.00</td>\n",
       "    </tr>\n",
       "    <tr>\n",
       "      <th>3</th>\n",
       "      <td>2010-01-06</td>\n",
       "      <td>LME COPPER    3MO ($) (LMCADS03 Comdty)</td>\n",
       "      <td>7660.00</td>\n",
       "    </tr>\n",
       "    <tr>\n",
       "      <th>4</th>\n",
       "      <td>2010-01-07</td>\n",
       "      <td>LME COPPER    3MO ($) (LMCADS03 Comdty)</td>\n",
       "      <td>7535.00</td>\n",
       "    </tr>\n",
       "    <tr>\n",
       "      <th>...</th>\n",
       "      <td>...</td>\n",
       "      <td>...</td>\n",
       "      <td>...</td>\n",
       "    </tr>\n",
       "    <tr>\n",
       "      <th>20341</th>\n",
       "      <td>2022-12-26</td>\n",
       "      <td>Generic 1st 'CL' Future (CL1 Comdty)</td>\n",
       "      <td>79.56</td>\n",
       "    </tr>\n",
       "    <tr>\n",
       "      <th>20342</th>\n",
       "      <td>2022-12-27</td>\n",
       "      <td>Generic 1st 'CL' Future (CL1 Comdty)</td>\n",
       "      <td>79.53</td>\n",
       "    </tr>\n",
       "    <tr>\n",
       "      <th>20343</th>\n",
       "      <td>2022-12-28</td>\n",
       "      <td>Generic 1st 'CL' Future (CL1 Comdty)</td>\n",
       "      <td>78.96</td>\n",
       "    </tr>\n",
       "    <tr>\n",
       "      <th>20344</th>\n",
       "      <td>2022-12-29</td>\n",
       "      <td>Generic 1st 'CL' Future (CL1 Comdty)</td>\n",
       "      <td>78.40</td>\n",
       "    </tr>\n",
       "    <tr>\n",
       "      <th>20345</th>\n",
       "      <td>2022-12-30</td>\n",
       "      <td>Generic 1st 'CL' Future (CL1 Comdty)</td>\n",
       "      <td>80.26</td>\n",
       "    </tr>\n",
       "  </tbody>\n",
       "</table>\n",
       "<p>20346 rows × 3 columns</p>\n",
       "</div>"
      ],
      "text/plain": [
       "           Dates                                    Metal    Price\n",
       "0     2010-01-01  LME COPPER    3MO ($) (LMCADS03 Comdty)  7375.00\n",
       "1     2010-01-04  LME COPPER    3MO ($) (LMCADS03 Comdty)  7500.00\n",
       "2     2010-01-05  LME COPPER    3MO ($) (LMCADS03 Comdty)  7485.00\n",
       "3     2010-01-06  LME COPPER    3MO ($) (LMCADS03 Comdty)  7660.00\n",
       "4     2010-01-07  LME COPPER    3MO ($) (LMCADS03 Comdty)  7535.00\n",
       "...          ...                                      ...      ...\n",
       "20341 2022-12-26     Generic 1st 'CL' Future (CL1 Comdty)    79.56\n",
       "20342 2022-12-27     Generic 1st 'CL' Future (CL1 Comdty)    79.53\n",
       "20343 2022-12-28     Generic 1st 'CL' Future (CL1 Comdty)    78.96\n",
       "20344 2022-12-29     Generic 1st 'CL' Future (CL1 Comdty)    78.40\n",
       "20345 2022-12-30     Generic 1st 'CL' Future (CL1 Comdty)    80.26\n",
       "\n",
       "[20346 rows x 3 columns]"
      ]
     },
     "execution_count": 8,
     "metadata": {},
     "output_type": "execute_result"
    }
   ],
   "source": [
    "# Use melt() to transform from wide to long format\n",
    "df_long = df.melt(id_vars=['Dates'], var_name='Metal', value_name='Price')\n",
    "df_long"
   ]
  },
  {
   "cell_type": "code",
   "execution_count": 20,
   "metadata": {},
   "outputs": [],
   "source": [
    "# Import sqlalchemy packages\n",
    "from sqlalchemy import create_engine, Column, Integer, String\n",
    "from sqlalchemy.ext.declarative import declarative_base\n",
    "from sqlalchemy.orm import sessionmaker\n",
    "from sqlalchemy import text"
   ]
  },
  {
   "attachments": {},
   "cell_type": "markdown",
   "metadata": {},
   "source": [
    "Define SQL Table Schema"
   ]
  },
  {
   "cell_type": "code",
   "execution_count": 7,
   "metadata": {
    "vscode": {
     "languageId": "sql"
    }
   },
   "outputs": [
    {
     "ename": "SyntaxError",
     "evalue": "invalid syntax (3154966016.py, line 1)",
     "output_type": "error",
     "traceback": [
      "\u001b[0;36m  Cell \u001b[0;32mIn[7], line 1\u001b[0;36m\u001b[0m\n\u001b[0;31m    CREATE TABLE MetalPrices (\u001b[0m\n\u001b[0m           ^\u001b[0m\n\u001b[0;31mSyntaxError\u001b[0m\u001b[0;31m:\u001b[0m invalid syntax\n"
     ]
    }
   ],
   "source": [
    "CREATE TABLE MetalPrices (\n",
    "    id SERIAL PRIMARY KEY,        -- Auto-incrementing unique identifier\n",
    "    date DATE NOT NULL,           -- Date of price entry\n",
    "    metal VARCHAR(50) NOT NULL,   -- Name of metal (e.g., 'Copper', 'Zinc')\n",
    "    price DECIMAL(10,2) NOT NULL, -- Metal price with two decimal precision\n",
    "\n",
    "    -- Indexes for performance optimization\n",
    "    INDEX idx_date (date),  \n",
    "    INDEX idx_metal (metal)\n",
    ");"
   ]
  },
  {
   "attachments": {},
   "cell_type": "markdown",
   "metadata": {},
   "source": [
    "Connect to SQL Database Using SQLAlchemy"
   ]
  },
  {
   "cell_type": "code",
   "execution_count": 26,
   "metadata": {},
   "outputs": [],
   "source": [
    "# Define the database URI\n",
    "engine = create_engine('sqlite:///MarketData.db', echo=True , connect_args={\"check_same_thread\": False})\n",
    "\n",
    "# Create a session\n",
    "Session = sessionmaker(bind=engine)\n",
    "session = Session()\n"
   ]
  },
  {
   "cell_type": "code",
   "execution_count": 27,
   "metadata": {},
   "outputs": [
    {
     "name": "stdout",
     "output_type": "stream",
     "text": [
      "2025-03-31 01:24:44,351 INFO sqlalchemy.engine.Engine BEGIN (implicit)\n",
      "2025-03-31 01:24:44,356 INFO sqlalchemy.engine.Engine PRAGMA main.table_info(\"MetalPrices\")\n",
      "2025-03-31 01:24:44,357 INFO sqlalchemy.engine.Engine [raw sql] ()\n",
      "2025-03-31 01:24:44,361 INFO sqlalchemy.engine.Engine PRAGMA main.table_info(\"MetalPrices\")\n",
      "2025-03-31 01:24:44,362 INFO sqlalchemy.engine.Engine [raw sql] ()\n",
      "2025-03-31 01:24:44,365 INFO sqlalchemy.engine.Engine SELECT name FROM sqlite_master WHERE type='table' AND name NOT LIKE 'sqlite~_%' ESCAPE '~' ORDER BY name\n",
      "2025-03-31 01:24:44,366 INFO sqlalchemy.engine.Engine [raw sql] ()\n",
      "2025-03-31 01:24:44,369 INFO sqlalchemy.engine.Engine SELECT name FROM sqlite_master WHERE type='view' AND name NOT LIKE 'sqlite~_%' ESCAPE '~' ORDER BY name\n",
      "2025-03-31 01:24:44,370 INFO sqlalchemy.engine.Engine [raw sql] ()\n",
      "2025-03-31 01:24:44,372 INFO sqlalchemy.engine.Engine PRAGMA main.table_xinfo(\"MetalPrices\")\n",
      "2025-03-31 01:24:44,373 INFO sqlalchemy.engine.Engine [raw sql] ()\n",
      "2025-03-31 01:24:44,375 INFO sqlalchemy.engine.Engine SELECT sql FROM  (SELECT * FROM sqlite_master UNION ALL   SELECT * FROM sqlite_temp_master) WHERE name = ? AND type in ('table', 'view')\n",
      "2025-03-31 01:24:44,376 INFO sqlalchemy.engine.Engine [raw sql] ('MetalPrices',)\n",
      "2025-03-31 01:24:44,379 INFO sqlalchemy.engine.Engine PRAGMA main.foreign_key_list(\"MetalPrices\")\n",
      "2025-03-31 01:24:44,380 INFO sqlalchemy.engine.Engine [raw sql] ()\n",
      "2025-03-31 01:24:44,382 INFO sqlalchemy.engine.Engine PRAGMA temp.foreign_key_list(\"MetalPrices\")\n",
      "2025-03-31 01:24:44,383 INFO sqlalchemy.engine.Engine [raw sql] ()\n",
      "2025-03-31 01:24:44,385 INFO sqlalchemy.engine.Engine SELECT sql FROM  (SELECT * FROM sqlite_master UNION ALL   SELECT * FROM sqlite_temp_master) WHERE name = ? AND type in ('table', 'view')\n",
      "2025-03-31 01:24:44,386 INFO sqlalchemy.engine.Engine [raw sql] ('MetalPrices',)\n",
      "2025-03-31 01:24:44,393 INFO sqlalchemy.engine.Engine PRAGMA main.index_list(\"MetalPrices\")\n",
      "2025-03-31 01:24:44,395 INFO sqlalchemy.engine.Engine [raw sql] ()\n",
      "2025-03-31 01:24:44,397 INFO sqlalchemy.engine.Engine PRAGMA temp.index_list(\"MetalPrices\")\n",
      "2025-03-31 01:24:44,398 INFO sqlalchemy.engine.Engine [raw sql] ()\n",
      "2025-03-31 01:24:44,403 INFO sqlalchemy.engine.Engine PRAGMA main.table_info(\"MetalPrices\")\n",
      "2025-03-31 01:24:44,404 INFO sqlalchemy.engine.Engine [raw sql] ()\n",
      "2025-03-31 01:24:44,406 INFO sqlalchemy.engine.Engine PRAGMA main.index_list(\"MetalPrices\")\n",
      "2025-03-31 01:24:44,407 INFO sqlalchemy.engine.Engine [raw sql] ()\n",
      "2025-03-31 01:24:44,408 INFO sqlalchemy.engine.Engine PRAGMA temp.index_list(\"MetalPrices\")\n",
      "2025-03-31 01:24:44,409 INFO sqlalchemy.engine.Engine [raw sql] ()\n",
      "2025-03-31 01:24:44,411 INFO sqlalchemy.engine.Engine PRAGMA main.table_info(\"MetalPrices\")\n",
      "2025-03-31 01:24:44,412 INFO sqlalchemy.engine.Engine [raw sql] ()\n",
      "2025-03-31 01:24:44,415 INFO sqlalchemy.engine.Engine SELECT sql FROM  (SELECT * FROM sqlite_master UNION ALL   SELECT * FROM sqlite_temp_master) WHERE name = ? AND type in ('table', 'view')\n",
      "2025-03-31 01:24:44,416 INFO sqlalchemy.engine.Engine [raw sql] ('MetalPrices',)\n",
      "2025-03-31 01:24:44,426 INFO sqlalchemy.engine.Engine \n",
      "DROP TABLE \"MetalPrices\"\n",
      "2025-03-31 01:24:44,427 INFO sqlalchemy.engine.Engine [no key 0.00124s] ()\n",
      "2025-03-31 01:24:49,458 INFO sqlalchemy.engine.Engine COMMIT\n"
     ]
    },
    {
     "ename": "OperationalError",
     "evalue": "(sqlite3.OperationalError) database is locked\n[SQL: \nDROP TABLE \"MetalPrices\"]\n(Background on this error at: https://sqlalche.me/e/20/e3q8)",
     "output_type": "error",
     "traceback": [
      "\u001b[0;31m---------------------------------------------------------------------------\u001b[0m",
      "\u001b[0;31mOperationalError\u001b[0m                          Traceback (most recent call last)",
      "File \u001b[0;32m~/miniconda3/envs/finance/lib/python3.11/site-packages/sqlalchemy/engine/base.py:1964\u001b[0m, in \u001b[0;36mConnection._exec_single_context\u001b[0;34m(self, dialect, context, statement, parameters)\u001b[0m\n\u001b[1;32m   1963\u001b[0m     \u001b[39mif\u001b[39;00m \u001b[39mnot\u001b[39;00m evt_handled:\n\u001b[0;32m-> 1964\u001b[0m         \u001b[39mself\u001b[39;49m\u001b[39m.\u001b[39;49mdialect\u001b[39m.\u001b[39;49mdo_execute(\n\u001b[1;32m   1965\u001b[0m             cursor, str_statement, effective_parameters, context\n\u001b[1;32m   1966\u001b[0m         )\n\u001b[1;32m   1968\u001b[0m \u001b[39mif\u001b[39;00m \u001b[39mself\u001b[39m\u001b[39m.\u001b[39m_has_events \u001b[39mor\u001b[39;00m \u001b[39mself\u001b[39m\u001b[39m.\u001b[39mengine\u001b[39m.\u001b[39m_has_events:\n",
      "File \u001b[0;32m~/miniconda3/envs/finance/lib/python3.11/site-packages/sqlalchemy/engine/default.py:945\u001b[0m, in \u001b[0;36mDefaultDialect.do_execute\u001b[0;34m(self, cursor, statement, parameters, context)\u001b[0m\n\u001b[1;32m    944\u001b[0m \u001b[39mdef\u001b[39;00m \u001b[39mdo_execute\u001b[39m(\u001b[39mself\u001b[39m, cursor, statement, parameters, context\u001b[39m=\u001b[39m\u001b[39mNone\u001b[39;00m):\n\u001b[0;32m--> 945\u001b[0m     cursor\u001b[39m.\u001b[39;49mexecute(statement, parameters)\n",
      "\u001b[0;31mOperationalError\u001b[0m: database is locked",
      "\nThe above exception was the direct cause of the following exception:\n",
      "\u001b[0;31mOperationalError\u001b[0m                          Traceback (most recent call last)",
      "Cell \u001b[0;32mIn[27], line 2\u001b[0m\n\u001b[1;32m      1\u001b[0m \u001b[39m# Save pandas dataframe to the SQL database (append mode prevents overwriting existing data)\u001b[39;00m\n\u001b[0;32m----> 2\u001b[0m df_long\u001b[39m.\u001b[39;49mto_sql(\u001b[39m\"\u001b[39;49m\u001b[39mMetalPrices\u001b[39;49m\u001b[39m\"\u001b[39;49m, con\u001b[39m=\u001b[39;49mengine, if_exists\u001b[39m=\u001b[39;49m\u001b[39m\"\u001b[39;49m\u001b[39mreplace\u001b[39;49m\u001b[39m\"\u001b[39;49m, index\u001b[39m=\u001b[39;49m\u001b[39mFalse\u001b[39;49;00m)\n\u001b[1;32m      4\u001b[0m \u001b[39mprint\u001b[39m(\u001b[39m\"\u001b[39m\u001b[39mData inserted successfully into the database!\u001b[39m\u001b[39m\"\u001b[39m)\n",
      "File \u001b[0;32m~/miniconda3/envs/finance/lib/python3.11/site-packages/pandas/util/_decorators.py:333\u001b[0m, in \u001b[0;36mdeprecate_nonkeyword_arguments.<locals>.decorate.<locals>.wrapper\u001b[0;34m(*args, **kwargs)\u001b[0m\n\u001b[1;32m    327\u001b[0m \u001b[39mif\u001b[39;00m \u001b[39mlen\u001b[39m(args) \u001b[39m>\u001b[39m num_allow_args:\n\u001b[1;32m    328\u001b[0m     warnings\u001b[39m.\u001b[39mwarn(\n\u001b[1;32m    329\u001b[0m         msg\u001b[39m.\u001b[39mformat(arguments\u001b[39m=\u001b[39m_format_argument_list(allow_args)),\n\u001b[1;32m    330\u001b[0m         \u001b[39mFutureWarning\u001b[39;00m,\n\u001b[1;32m    331\u001b[0m         stacklevel\u001b[39m=\u001b[39mfind_stack_level(),\n\u001b[1;32m    332\u001b[0m     )\n\u001b[0;32m--> 333\u001b[0m \u001b[39mreturn\u001b[39;00m func(\u001b[39m*\u001b[39;49margs, \u001b[39m*\u001b[39;49m\u001b[39m*\u001b[39;49mkwargs)\n",
      "File \u001b[0;32m~/miniconda3/envs/finance/lib/python3.11/site-packages/pandas/core/generic.py:3087\u001b[0m, in \u001b[0;36mNDFrame.to_sql\u001b[0;34m(self, name, con, schema, if_exists, index, index_label, chunksize, dtype, method)\u001b[0m\n\u001b[1;32m   2889\u001b[0m \u001b[39m\u001b[39m\u001b[39m\"\"\"\u001b[39;00m\n\u001b[1;32m   2890\u001b[0m \u001b[39mWrite records stored in a DataFrame to a SQL database.\u001b[39;00m\n\u001b[1;32m   2891\u001b[0m \n\u001b[0;32m   (...)\u001b[0m\n\u001b[1;32m   3083\u001b[0m \u001b[39m[(1,), (None,), (2,)]\u001b[39;00m\n\u001b[1;32m   3084\u001b[0m \u001b[39m\"\"\"\u001b[39;00m  \u001b[39m# noqa: E501\u001b[39;00m\n\u001b[1;32m   3085\u001b[0m \u001b[39mfrom\u001b[39;00m \u001b[39mpandas\u001b[39;00m\u001b[39m.\u001b[39;00m\u001b[39mio\u001b[39;00m \u001b[39mimport\u001b[39;00m sql\n\u001b[0;32m-> 3087\u001b[0m \u001b[39mreturn\u001b[39;00m sql\u001b[39m.\u001b[39;49mto_sql(\n\u001b[1;32m   3088\u001b[0m     \u001b[39mself\u001b[39;49m,\n\u001b[1;32m   3089\u001b[0m     name,\n\u001b[1;32m   3090\u001b[0m     con,\n\u001b[1;32m   3091\u001b[0m     schema\u001b[39m=\u001b[39;49mschema,\n\u001b[1;32m   3092\u001b[0m     if_exists\u001b[39m=\u001b[39;49mif_exists,\n\u001b[1;32m   3093\u001b[0m     index\u001b[39m=\u001b[39;49mindex,\n\u001b[1;32m   3094\u001b[0m     index_label\u001b[39m=\u001b[39;49mindex_label,\n\u001b[1;32m   3095\u001b[0m     chunksize\u001b[39m=\u001b[39;49mchunksize,\n\u001b[1;32m   3096\u001b[0m     dtype\u001b[39m=\u001b[39;49mdtype,\n\u001b[1;32m   3097\u001b[0m     method\u001b[39m=\u001b[39;49mmethod,\n\u001b[1;32m   3098\u001b[0m )\n",
      "File \u001b[0;32m~/miniconda3/envs/finance/lib/python3.11/site-packages/pandas/io/sql.py:842\u001b[0m, in \u001b[0;36mto_sql\u001b[0;34m(frame, name, con, schema, if_exists, index, index_label, chunksize, dtype, method, engine, **engine_kwargs)\u001b[0m\n\u001b[1;32m    837\u001b[0m     \u001b[39mraise\u001b[39;00m \u001b[39mNotImplementedError\u001b[39;00m(\n\u001b[1;32m    838\u001b[0m         \u001b[39m\"\u001b[39m\u001b[39m'\u001b[39m\u001b[39mframe\u001b[39m\u001b[39m'\u001b[39m\u001b[39m argument should be either a Series or a DataFrame\u001b[39m\u001b[39m\"\u001b[39m\n\u001b[1;32m    839\u001b[0m     )\n\u001b[1;32m    841\u001b[0m \u001b[39mwith\u001b[39;00m pandasSQL_builder(con, schema\u001b[39m=\u001b[39mschema, need_transaction\u001b[39m=\u001b[39m\u001b[39mTrue\u001b[39;00m) \u001b[39mas\u001b[39;00m pandas_sql:\n\u001b[0;32m--> 842\u001b[0m     \u001b[39mreturn\u001b[39;00m pandas_sql\u001b[39m.\u001b[39;49mto_sql(\n\u001b[1;32m    843\u001b[0m         frame,\n\u001b[1;32m    844\u001b[0m         name,\n\u001b[1;32m    845\u001b[0m         if_exists\u001b[39m=\u001b[39;49mif_exists,\n\u001b[1;32m    846\u001b[0m         index\u001b[39m=\u001b[39;49mindex,\n\u001b[1;32m    847\u001b[0m         index_label\u001b[39m=\u001b[39;49mindex_label,\n\u001b[1;32m    848\u001b[0m         schema\u001b[39m=\u001b[39;49mschema,\n\u001b[1;32m    849\u001b[0m         chunksize\u001b[39m=\u001b[39;49mchunksize,\n\u001b[1;32m    850\u001b[0m         dtype\u001b[39m=\u001b[39;49mdtype,\n\u001b[1;32m    851\u001b[0m         method\u001b[39m=\u001b[39;49mmethod,\n\u001b[1;32m    852\u001b[0m         engine\u001b[39m=\u001b[39;49mengine,\n\u001b[1;32m    853\u001b[0m         \u001b[39m*\u001b[39;49m\u001b[39m*\u001b[39;49mengine_kwargs,\n\u001b[1;32m    854\u001b[0m     )\n",
      "File \u001b[0;32m~/miniconda3/envs/finance/lib/python3.11/site-packages/pandas/io/sql.py:2008\u001b[0m, in \u001b[0;36mSQLDatabase.to_sql\u001b[0;34m(self, frame, name, if_exists, index, index_label, schema, chunksize, dtype, method, engine, **engine_kwargs)\u001b[0m\n\u001b[1;32m   1958\u001b[0m \u001b[39m\u001b[39m\u001b[39m\"\"\"\u001b[39;00m\n\u001b[1;32m   1959\u001b[0m \u001b[39mWrite records stored in a DataFrame to a SQL database.\u001b[39;00m\n\u001b[1;32m   1960\u001b[0m \n\u001b[0;32m   (...)\u001b[0m\n\u001b[1;32m   2004\u001b[0m \u001b[39m    Any additional kwargs are passed to the engine.\u001b[39;00m\n\u001b[1;32m   2005\u001b[0m \u001b[39m\"\"\"\u001b[39;00m\n\u001b[1;32m   2006\u001b[0m sql_engine \u001b[39m=\u001b[39m get_engine(engine)\n\u001b[0;32m-> 2008\u001b[0m table \u001b[39m=\u001b[39m \u001b[39mself\u001b[39;49m\u001b[39m.\u001b[39;49mprep_table(\n\u001b[1;32m   2009\u001b[0m     frame\u001b[39m=\u001b[39;49mframe,\n\u001b[1;32m   2010\u001b[0m     name\u001b[39m=\u001b[39;49mname,\n\u001b[1;32m   2011\u001b[0m     if_exists\u001b[39m=\u001b[39;49mif_exists,\n\u001b[1;32m   2012\u001b[0m     index\u001b[39m=\u001b[39;49mindex,\n\u001b[1;32m   2013\u001b[0m     index_label\u001b[39m=\u001b[39;49mindex_label,\n\u001b[1;32m   2014\u001b[0m     schema\u001b[39m=\u001b[39;49mschema,\n\u001b[1;32m   2015\u001b[0m     dtype\u001b[39m=\u001b[39;49mdtype,\n\u001b[1;32m   2016\u001b[0m )\n\u001b[1;32m   2018\u001b[0m total_inserted \u001b[39m=\u001b[39m sql_engine\u001b[39m.\u001b[39minsert_records(\n\u001b[1;32m   2019\u001b[0m     table\u001b[39m=\u001b[39mtable,\n\u001b[1;32m   2020\u001b[0m     con\u001b[39m=\u001b[39m\u001b[39mself\u001b[39m\u001b[39m.\u001b[39mcon,\n\u001b[0;32m   (...)\u001b[0m\n\u001b[1;32m   2027\u001b[0m     \u001b[39m*\u001b[39m\u001b[39m*\u001b[39mengine_kwargs,\n\u001b[1;32m   2028\u001b[0m )\n\u001b[1;32m   2030\u001b[0m \u001b[39mself\u001b[39m\u001b[39m.\u001b[39mcheck_case_sensitive(name\u001b[39m=\u001b[39mname, schema\u001b[39m=\u001b[39mschema)\n",
      "File \u001b[0;32m~/miniconda3/envs/finance/lib/python3.11/site-packages/pandas/io/sql.py:1912\u001b[0m, in \u001b[0;36mSQLDatabase.prep_table\u001b[0;34m(self, frame, name, if_exists, index, index_label, schema, dtype)\u001b[0m\n\u001b[1;32m   1900\u001b[0m             \u001b[39mraise\u001b[39;00m \u001b[39mValueError\u001b[39;00m(\u001b[39mf\u001b[39m\u001b[39m\"\u001b[39m\u001b[39mThe type of \u001b[39m\u001b[39m{\u001b[39;00mcol\u001b[39m}\u001b[39;00m\u001b[39m is not a SQLAlchemy type\u001b[39m\u001b[39m\"\u001b[39m)\n\u001b[1;32m   1902\u001b[0m table \u001b[39m=\u001b[39m SQLTable(\n\u001b[1;32m   1903\u001b[0m     name,\n\u001b[1;32m   1904\u001b[0m     \u001b[39mself\u001b[39m,\n\u001b[0;32m   (...)\u001b[0m\n\u001b[1;32m   1910\u001b[0m     dtype\u001b[39m=\u001b[39mdtype,\n\u001b[1;32m   1911\u001b[0m )\n\u001b[0;32m-> 1912\u001b[0m table\u001b[39m.\u001b[39;49mcreate()\n\u001b[1;32m   1913\u001b[0m \u001b[39mreturn\u001b[39;00m table\n",
      "File \u001b[0;32m~/miniconda3/envs/finance/lib/python3.11/site-packages/pandas/io/sql.py:988\u001b[0m, in \u001b[0;36mSQLTable.create\u001b[0;34m(self)\u001b[0m\n\u001b[1;32m    986\u001b[0m     \u001b[39mraise\u001b[39;00m \u001b[39mValueError\u001b[39;00m(\u001b[39mf\u001b[39m\u001b[39m\"\u001b[39m\u001b[39mTable \u001b[39m\u001b[39m'\u001b[39m\u001b[39m{\u001b[39;00m\u001b[39mself\u001b[39m\u001b[39m.\u001b[39mname\u001b[39m}\u001b[39;00m\u001b[39m'\u001b[39m\u001b[39m already exists.\u001b[39m\u001b[39m\"\u001b[39m)\n\u001b[1;32m    987\u001b[0m \u001b[39mif\u001b[39;00m \u001b[39mself\u001b[39m\u001b[39m.\u001b[39mif_exists \u001b[39m==\u001b[39m \u001b[39m\"\u001b[39m\u001b[39mreplace\u001b[39m\u001b[39m\"\u001b[39m:\n\u001b[0;32m--> 988\u001b[0m     \u001b[39mself\u001b[39;49m\u001b[39m.\u001b[39;49mpd_sql\u001b[39m.\u001b[39;49mdrop_table(\u001b[39mself\u001b[39;49m\u001b[39m.\u001b[39;49mname, \u001b[39mself\u001b[39;49m\u001b[39m.\u001b[39;49mschema)\n\u001b[1;32m    989\u001b[0m     \u001b[39mself\u001b[39m\u001b[39m.\u001b[39m_execute_create()\n\u001b[1;32m    990\u001b[0m \u001b[39melif\u001b[39;00m \u001b[39mself\u001b[39m\u001b[39m.\u001b[39mif_exists \u001b[39m==\u001b[39m \u001b[39m\"\u001b[39m\u001b[39mappend\u001b[39m\u001b[39m\"\u001b[39m:\n",
      "File \u001b[0;32m~/miniconda3/envs/finance/lib/python3.11/site-packages/pandas/io/sql.py:2063\u001b[0m, in \u001b[0;36mSQLDatabase.drop_table\u001b[0;34m(self, table_name, schema)\u001b[0m\n\u001b[1;32m   2059\u001b[0m \u001b[39mself\u001b[39m\u001b[39m.\u001b[39mmeta\u001b[39m.\u001b[39mreflect(\n\u001b[1;32m   2060\u001b[0m     bind\u001b[39m=\u001b[39m\u001b[39mself\u001b[39m\u001b[39m.\u001b[39mcon, only\u001b[39m=\u001b[39m[table_name], schema\u001b[39m=\u001b[39mschema, views\u001b[39m=\u001b[39m\u001b[39mTrue\u001b[39;00m\n\u001b[1;32m   2061\u001b[0m )\n\u001b[1;32m   2062\u001b[0m \u001b[39mwith\u001b[39;00m \u001b[39mself\u001b[39m\u001b[39m.\u001b[39mrun_transaction():\n\u001b[0;32m-> 2063\u001b[0m     \u001b[39mself\u001b[39;49m\u001b[39m.\u001b[39;49mget_table(table_name, schema)\u001b[39m.\u001b[39;49mdrop(bind\u001b[39m=\u001b[39;49m\u001b[39mself\u001b[39;49m\u001b[39m.\u001b[39;49mcon)\n\u001b[1;32m   2064\u001b[0m \u001b[39mself\u001b[39m\u001b[39m.\u001b[39mmeta\u001b[39m.\u001b[39mclear()\n",
      "File \u001b[0;32m~/miniconda3/envs/finance/lib/python3.11/site-packages/sqlalchemy/sql/schema.py:1301\u001b[0m, in \u001b[0;36mTable.drop\u001b[0;34m(self, bind, checkfirst)\u001b[0m\n\u001b[1;32m   1291\u001b[0m \u001b[39mdef\u001b[39;00m \u001b[39mdrop\u001b[39m(\u001b[39mself\u001b[39m, bind: _CreateDropBind, checkfirst: \u001b[39mbool\u001b[39m \u001b[39m=\u001b[39m \u001b[39mFalse\u001b[39;00m) \u001b[39m-\u001b[39m\u001b[39m>\u001b[39m \u001b[39mNone\u001b[39;00m:\n\u001b[1;32m   1292\u001b[0m \u001b[39m    \u001b[39m\u001b[39m\"\"\"Issue a ``DROP`` statement for this\u001b[39;00m\n\u001b[1;32m   1293\u001b[0m \u001b[39m    :class:`_schema.Table`, using the given\u001b[39;00m\n\u001b[1;32m   1294\u001b[0m \u001b[39m    :class:`.Connection` or :class:`.Engine` for connectivity.\u001b[39;00m\n\u001b[0;32m   (...)\u001b[0m\n\u001b[1;32m   1299\u001b[0m \n\u001b[1;32m   1300\u001b[0m \u001b[39m    \"\"\"\u001b[39;00m\n\u001b[0;32m-> 1301\u001b[0m     bind\u001b[39m.\u001b[39;49m_run_ddl_visitor(ddl\u001b[39m.\u001b[39;49mSchemaDropper, \u001b[39mself\u001b[39;49m, checkfirst\u001b[39m=\u001b[39;49mcheckfirst)\n",
      "File \u001b[0;32m~/miniconda3/envs/finance/lib/python3.11/site-packages/sqlalchemy/engine/base.py:2456\u001b[0m, in \u001b[0;36mConnection._run_ddl_visitor\u001b[0;34m(self, visitorcallable, element, **kwargs)\u001b[0m\n\u001b[1;32m   2444\u001b[0m \u001b[39mdef\u001b[39;00m \u001b[39m_run_ddl_visitor\u001b[39m(\n\u001b[1;32m   2445\u001b[0m     \u001b[39mself\u001b[39m,\n\u001b[1;32m   2446\u001b[0m     visitorcallable: Type[Union[SchemaGenerator, SchemaDropper]],\n\u001b[1;32m   2447\u001b[0m     element: SchemaItem,\n\u001b[1;32m   2448\u001b[0m     \u001b[39m*\u001b[39m\u001b[39m*\u001b[39mkwargs: Any,\n\u001b[1;32m   2449\u001b[0m ) \u001b[39m-\u001b[39m\u001b[39m>\u001b[39m \u001b[39mNone\u001b[39;00m:\n\u001b[1;32m   2450\u001b[0m \u001b[39m    \u001b[39m\u001b[39m\"\"\"run a DDL visitor.\u001b[39;00m\n\u001b[1;32m   2451\u001b[0m \n\u001b[1;32m   2452\u001b[0m \u001b[39m    This method is only here so that the MockConnection can change the\u001b[39;00m\n\u001b[1;32m   2453\u001b[0m \u001b[39m    options given to the visitor so that \"checkfirst\" is skipped.\u001b[39;00m\n\u001b[1;32m   2454\u001b[0m \n\u001b[1;32m   2455\u001b[0m \u001b[39m    \"\"\"\u001b[39;00m\n\u001b[0;32m-> 2456\u001b[0m     visitorcallable(\u001b[39mself\u001b[39;49m\u001b[39m.\u001b[39;49mdialect, \u001b[39mself\u001b[39;49m, \u001b[39m*\u001b[39;49m\u001b[39m*\u001b[39;49mkwargs)\u001b[39m.\u001b[39;49mtraverse_single(element)\n",
      "File \u001b[0;32m~/miniconda3/envs/finance/lib/python3.11/site-packages/sqlalchemy/sql/visitors.py:664\u001b[0m, in \u001b[0;36mExternalTraversal.traverse_single\u001b[0;34m(self, obj, **kw)\u001b[0m\n\u001b[1;32m    662\u001b[0m meth \u001b[39m=\u001b[39m \u001b[39mgetattr\u001b[39m(v, \u001b[39m\"\u001b[39m\u001b[39mvisit_\u001b[39m\u001b[39m%s\u001b[39;00m\u001b[39m\"\u001b[39m \u001b[39m%\u001b[39m obj\u001b[39m.\u001b[39m__visit_name__, \u001b[39mNone\u001b[39;00m)\n\u001b[1;32m    663\u001b[0m \u001b[39mif\u001b[39;00m meth:\n\u001b[0;32m--> 664\u001b[0m     \u001b[39mreturn\u001b[39;00m meth(obj, \u001b[39m*\u001b[39;49m\u001b[39m*\u001b[39;49mkw)\n",
      "File \u001b[0;32m~/miniconda3/envs/finance/lib/python3.11/site-packages/sqlalchemy/sql/ddl.py:1206\u001b[0m, in \u001b[0;36mSchemaDropper.visit_table\u001b[0;34m(self, table, drop_ok, _is_metadata_operation, _ignore_sequences)\u001b[0m\n\u001b[1;32m   1199\u001b[0m     \u001b[39mreturn\u001b[39;00m\n\u001b[1;32m   1201\u001b[0m \u001b[39mwith\u001b[39;00m \u001b[39mself\u001b[39m\u001b[39m.\u001b[39mwith_ddl_events(\n\u001b[1;32m   1202\u001b[0m     table,\n\u001b[1;32m   1203\u001b[0m     checkfirst\u001b[39m=\u001b[39m\u001b[39mself\u001b[39m\u001b[39m.\u001b[39mcheckfirst,\n\u001b[1;32m   1204\u001b[0m     _is_metadata_operation\u001b[39m=\u001b[39m_is_metadata_operation,\n\u001b[1;32m   1205\u001b[0m ):\n\u001b[0;32m-> 1206\u001b[0m     DropTable(table)\u001b[39m.\u001b[39;49m_invoke_with(\u001b[39mself\u001b[39;49m\u001b[39m.\u001b[39;49mconnection)\n\u001b[1;32m   1208\u001b[0m     \u001b[39m# traverse client side defaults which may refer to server-side\u001b[39;00m\n\u001b[1;32m   1209\u001b[0m     \u001b[39m# sequences. noting that some of these client side defaults may\u001b[39;00m\n\u001b[1;32m   1210\u001b[0m     \u001b[39m# also be set up as server side defaults\u001b[39;00m\n\u001b[0;32m   (...)\u001b[0m\n\u001b[1;32m   1213\u001b[0m     \u001b[39m# #associating-a-sequence-as-the-server-side-\u001b[39;00m\n\u001b[1;32m   1214\u001b[0m     \u001b[39m# default), so have to be dropped after the table is dropped.\u001b[39;00m\n\u001b[1;32m   1215\u001b[0m     \u001b[39mfor\u001b[39;00m column \u001b[39min\u001b[39;00m table\u001b[39m.\u001b[39mcolumns:\n",
      "File \u001b[0;32m~/miniconda3/envs/finance/lib/python3.11/site-packages/sqlalchemy/sql/ddl.py:321\u001b[0m, in \u001b[0;36mExecutableDDLElement._invoke_with\u001b[0;34m(self, bind)\u001b[0m\n\u001b[1;32m    319\u001b[0m \u001b[39mdef\u001b[39;00m \u001b[39m_invoke_with\u001b[39m(\u001b[39mself\u001b[39m, bind):\n\u001b[1;32m    320\u001b[0m     \u001b[39mif\u001b[39;00m \u001b[39mself\u001b[39m\u001b[39m.\u001b[39m_should_execute(\u001b[39mself\u001b[39m\u001b[39m.\u001b[39mtarget, bind):\n\u001b[0;32m--> 321\u001b[0m         \u001b[39mreturn\u001b[39;00m bind\u001b[39m.\u001b[39;49mexecute(\u001b[39mself\u001b[39;49m)\n",
      "File \u001b[0;32m~/miniconda3/envs/finance/lib/python3.11/site-packages/sqlalchemy/engine/base.py:1416\u001b[0m, in \u001b[0;36mConnection.execute\u001b[0;34m(self, statement, parameters, execution_options)\u001b[0m\n\u001b[1;32m   1414\u001b[0m     \u001b[39mraise\u001b[39;00m exc\u001b[39m.\u001b[39mObjectNotExecutableError(statement) \u001b[39mfrom\u001b[39;00m \u001b[39merr\u001b[39;00m\n\u001b[1;32m   1415\u001b[0m \u001b[39melse\u001b[39;00m:\n\u001b[0;32m-> 1416\u001b[0m     \u001b[39mreturn\u001b[39;00m meth(\n\u001b[1;32m   1417\u001b[0m         \u001b[39mself\u001b[39;49m,\n\u001b[1;32m   1418\u001b[0m         distilled_parameters,\n\u001b[1;32m   1419\u001b[0m         execution_options \u001b[39mor\u001b[39;49;00m NO_OPTIONS,\n\u001b[1;32m   1420\u001b[0m     )\n",
      "File \u001b[0;32m~/miniconda3/envs/finance/lib/python3.11/site-packages/sqlalchemy/sql/ddl.py:187\u001b[0m, in \u001b[0;36mExecutableDDLElement._execute_on_connection\u001b[0;34m(self, connection, distilled_params, execution_options)\u001b[0m\n\u001b[1;32m    184\u001b[0m \u001b[39mdef\u001b[39;00m \u001b[39m_execute_on_connection\u001b[39m(\n\u001b[1;32m    185\u001b[0m     \u001b[39mself\u001b[39m, connection, distilled_params, execution_options\n\u001b[1;32m    186\u001b[0m ):\n\u001b[0;32m--> 187\u001b[0m     \u001b[39mreturn\u001b[39;00m connection\u001b[39m.\u001b[39;49m_execute_ddl(\n\u001b[1;32m    188\u001b[0m         \u001b[39mself\u001b[39;49m, distilled_params, execution_options\n\u001b[1;32m    189\u001b[0m     )\n",
      "File \u001b[0;32m~/miniconda3/envs/finance/lib/python3.11/site-packages/sqlalchemy/engine/base.py:1527\u001b[0m, in \u001b[0;36mConnection._execute_ddl\u001b[0;34m(self, ddl, distilled_parameters, execution_options)\u001b[0m\n\u001b[1;32m   1522\u001b[0m dialect \u001b[39m=\u001b[39m \u001b[39mself\u001b[39m\u001b[39m.\u001b[39mdialect\n\u001b[1;32m   1524\u001b[0m compiled \u001b[39m=\u001b[39m ddl\u001b[39m.\u001b[39mcompile(\n\u001b[1;32m   1525\u001b[0m     dialect\u001b[39m=\u001b[39mdialect, schema_translate_map\u001b[39m=\u001b[39mschema_translate_map\n\u001b[1;32m   1526\u001b[0m )\n\u001b[0;32m-> 1527\u001b[0m ret \u001b[39m=\u001b[39m \u001b[39mself\u001b[39;49m\u001b[39m.\u001b[39;49m_execute_context(\n\u001b[1;32m   1528\u001b[0m     dialect,\n\u001b[1;32m   1529\u001b[0m     dialect\u001b[39m.\u001b[39;49mexecution_ctx_cls\u001b[39m.\u001b[39;49m_init_ddl,\n\u001b[1;32m   1530\u001b[0m     compiled,\n\u001b[1;32m   1531\u001b[0m     \u001b[39mNone\u001b[39;49;00m,\n\u001b[1;32m   1532\u001b[0m     exec_opts,\n\u001b[1;32m   1533\u001b[0m     compiled,\n\u001b[1;32m   1534\u001b[0m )\n\u001b[1;32m   1535\u001b[0m \u001b[39mif\u001b[39;00m \u001b[39mself\u001b[39m\u001b[39m.\u001b[39m_has_events \u001b[39mor\u001b[39;00m \u001b[39mself\u001b[39m\u001b[39m.\u001b[39mengine\u001b[39m.\u001b[39m_has_events:\n\u001b[1;32m   1536\u001b[0m     \u001b[39mself\u001b[39m\u001b[39m.\u001b[39mdispatch\u001b[39m.\u001b[39mafter_execute(\n\u001b[1;32m   1537\u001b[0m         \u001b[39mself\u001b[39m,\n\u001b[1;32m   1538\u001b[0m         ddl,\n\u001b[0;32m   (...)\u001b[0m\n\u001b[1;32m   1542\u001b[0m         ret,\n\u001b[1;32m   1543\u001b[0m     )\n",
      "File \u001b[0;32m~/miniconda3/envs/finance/lib/python3.11/site-packages/sqlalchemy/engine/base.py:1843\u001b[0m, in \u001b[0;36mConnection._execute_context\u001b[0;34m(self, dialect, constructor, statement, parameters, execution_options, *args, **kw)\u001b[0m\n\u001b[1;32m   1841\u001b[0m     \u001b[39mreturn\u001b[39;00m \u001b[39mself\u001b[39m\u001b[39m.\u001b[39m_exec_insertmany_context(dialect, context)\n\u001b[1;32m   1842\u001b[0m \u001b[39melse\u001b[39;00m:\n\u001b[0;32m-> 1843\u001b[0m     \u001b[39mreturn\u001b[39;00m \u001b[39mself\u001b[39;49m\u001b[39m.\u001b[39;49m_exec_single_context(\n\u001b[1;32m   1844\u001b[0m         dialect, context, statement, parameters\n\u001b[1;32m   1845\u001b[0m     )\n",
      "File \u001b[0;32m~/miniconda3/envs/finance/lib/python3.11/site-packages/sqlalchemy/engine/base.py:1983\u001b[0m, in \u001b[0;36mConnection._exec_single_context\u001b[0;34m(self, dialect, context, statement, parameters)\u001b[0m\n\u001b[1;32m   1980\u001b[0m     result \u001b[39m=\u001b[39m context\u001b[39m.\u001b[39m_setup_result_proxy()\n\u001b[1;32m   1982\u001b[0m \u001b[39mexcept\u001b[39;00m \u001b[39mBaseException\u001b[39;00m \u001b[39mas\u001b[39;00m e:\n\u001b[0;32m-> 1983\u001b[0m     \u001b[39mself\u001b[39;49m\u001b[39m.\u001b[39;49m_handle_dbapi_exception(\n\u001b[1;32m   1984\u001b[0m         e, str_statement, effective_parameters, cursor, context\n\u001b[1;32m   1985\u001b[0m     )\n\u001b[1;32m   1987\u001b[0m \u001b[39mreturn\u001b[39;00m result\n",
      "File \u001b[0;32m~/miniconda3/envs/finance/lib/python3.11/site-packages/sqlalchemy/engine/base.py:2352\u001b[0m, in \u001b[0;36mConnection._handle_dbapi_exception\u001b[0;34m(self, e, statement, parameters, cursor, context, is_sub_exec)\u001b[0m\n\u001b[1;32m   2350\u001b[0m \u001b[39melif\u001b[39;00m should_wrap:\n\u001b[1;32m   2351\u001b[0m     \u001b[39massert\u001b[39;00m sqlalchemy_exception \u001b[39mis\u001b[39;00m \u001b[39mnot\u001b[39;00m \u001b[39mNone\u001b[39;00m\n\u001b[0;32m-> 2352\u001b[0m     \u001b[39mraise\u001b[39;00m sqlalchemy_exception\u001b[39m.\u001b[39mwith_traceback(exc_info[\u001b[39m2\u001b[39m]) \u001b[39mfrom\u001b[39;00m \u001b[39me\u001b[39;00m\n\u001b[1;32m   2353\u001b[0m \u001b[39melse\u001b[39;00m:\n\u001b[1;32m   2354\u001b[0m     \u001b[39massert\u001b[39;00m exc_info[\u001b[39m1\u001b[39m] \u001b[39mis\u001b[39;00m \u001b[39mnot\u001b[39;00m \u001b[39mNone\u001b[39;00m\n",
      "File \u001b[0;32m~/miniconda3/envs/finance/lib/python3.11/site-packages/sqlalchemy/engine/base.py:1964\u001b[0m, in \u001b[0;36mConnection._exec_single_context\u001b[0;34m(self, dialect, context, statement, parameters)\u001b[0m\n\u001b[1;32m   1962\u001b[0m                 \u001b[39mbreak\u001b[39;00m\n\u001b[1;32m   1963\u001b[0m     \u001b[39mif\u001b[39;00m \u001b[39mnot\u001b[39;00m evt_handled:\n\u001b[0;32m-> 1964\u001b[0m         \u001b[39mself\u001b[39;49m\u001b[39m.\u001b[39;49mdialect\u001b[39m.\u001b[39;49mdo_execute(\n\u001b[1;32m   1965\u001b[0m             cursor, str_statement, effective_parameters, context\n\u001b[1;32m   1966\u001b[0m         )\n\u001b[1;32m   1968\u001b[0m \u001b[39mif\u001b[39;00m \u001b[39mself\u001b[39m\u001b[39m.\u001b[39m_has_events \u001b[39mor\u001b[39;00m \u001b[39mself\u001b[39m\u001b[39m.\u001b[39mengine\u001b[39m.\u001b[39m_has_events:\n\u001b[1;32m   1969\u001b[0m     \u001b[39mself\u001b[39m\u001b[39m.\u001b[39mdispatch\u001b[39m.\u001b[39mafter_cursor_execute(\n\u001b[1;32m   1970\u001b[0m         \u001b[39mself\u001b[39m,\n\u001b[1;32m   1971\u001b[0m         cursor,\n\u001b[0;32m   (...)\u001b[0m\n\u001b[1;32m   1975\u001b[0m         context\u001b[39m.\u001b[39mexecutemany,\n\u001b[1;32m   1976\u001b[0m     )\n",
      "File \u001b[0;32m~/miniconda3/envs/finance/lib/python3.11/site-packages/sqlalchemy/engine/default.py:945\u001b[0m, in \u001b[0;36mDefaultDialect.do_execute\u001b[0;34m(self, cursor, statement, parameters, context)\u001b[0m\n\u001b[1;32m    944\u001b[0m \u001b[39mdef\u001b[39;00m \u001b[39mdo_execute\u001b[39m(\u001b[39mself\u001b[39m, cursor, statement, parameters, context\u001b[39m=\u001b[39m\u001b[39mNone\u001b[39;00m):\n\u001b[0;32m--> 945\u001b[0m     cursor\u001b[39m.\u001b[39;49mexecute(statement, parameters)\n",
      "\u001b[0;31mOperationalError\u001b[0m: (sqlite3.OperationalError) database is locked\n[SQL: \nDROP TABLE \"MetalPrices\"]\n(Background on this error at: https://sqlalche.me/e/20/e3q8)"
     ]
    }
   ],
   "source": [
    "# Save pandas dataframe to the SQL database (append mode prevents overwriting existing data)\n",
    "df_long.to_sql(\"MetalPrices\", con=engine, if_exists=\"replace\", index=False)\n",
    "\n",
    "print(\"Data inserted successfully into the database!\")"
   ]
  },
  {
   "attachments": {},
   "cell_type": "markdown",
   "metadata": {},
   "source": [
    "Perform CRUD Operations in SQLAlchemy. First query data from the database"
   ]
  },
  {
   "cell_type": "code",
   "execution_count": 13,
   "metadata": {},
   "outputs": [
    {
     "name": "stdout",
     "output_type": "stream",
     "text": [
      "2025-03-31 00:56:16,045 INFO sqlalchemy.engine.Engine BEGIN (implicit)\n",
      "2025-03-31 00:56:16,048 INFO sqlalchemy.engine.Engine PRAGMA main.table_info(\"SELECT * FROM MetalPrices\")\n",
      "2025-03-31 00:56:16,049 INFO sqlalchemy.engine.Engine [raw sql] ()\n",
      "2025-03-31 00:56:16,053 INFO sqlalchemy.engine.Engine PRAGMA temp.table_info(\"SELECT * FROM MetalPrices\")\n",
      "2025-03-31 00:56:16,055 INFO sqlalchemy.engine.Engine [raw sql] ()\n",
      "2025-03-31 00:56:16,057 INFO sqlalchemy.engine.Engine SELECT * FROM MetalPrices\n",
      "2025-03-31 00:56:16,058 INFO sqlalchemy.engine.Engine [raw sql] ()\n",
      "2025-03-31 00:56:16,226 INFO sqlalchemy.engine.Engine ROLLBACK\n",
      "                            Dates                                    Metal  \\\n",
      "0      2010-01-01 00:00:00.000000  LME COPPER    3MO ($) (LMCADS03 Comdty)   \n",
      "1      2010-01-04 00:00:00.000000  LME COPPER    3MO ($) (LMCADS03 Comdty)   \n",
      "2      2010-01-05 00:00:00.000000  LME COPPER    3MO ($) (LMCADS03 Comdty)   \n",
      "3      2010-01-06 00:00:00.000000  LME COPPER    3MO ($) (LMCADS03 Comdty)   \n",
      "4      2010-01-07 00:00:00.000000  LME COPPER    3MO ($) (LMCADS03 Comdty)   \n",
      "...                           ...                                      ...   \n",
      "20341  2022-12-26 00:00:00.000000     Generic 1st 'CL' Future (CL1 Comdty)   \n",
      "20342  2022-12-27 00:00:00.000000     Generic 1st 'CL' Future (CL1 Comdty)   \n",
      "20343  2022-12-28 00:00:00.000000     Generic 1st 'CL' Future (CL1 Comdty)   \n",
      "20344  2022-12-29 00:00:00.000000     Generic 1st 'CL' Future (CL1 Comdty)   \n",
      "20345  2022-12-30 00:00:00.000000     Generic 1st 'CL' Future (CL1 Comdty)   \n",
      "\n",
      "         Price  \n",
      "0      7375.00  \n",
      "1      7500.00  \n",
      "2      7485.00  \n",
      "3      7660.00  \n",
      "4      7535.00  \n",
      "...        ...  \n",
      "20341    79.56  \n",
      "20342    79.53  \n",
      "20343    78.96  \n",
      "20344    78.40  \n",
      "20345    80.26  \n",
      "\n",
      "[20346 rows x 3 columns]\n"
     ]
    }
   ],
   "source": [
    "# Read data from the database\n",
    "query = \"SELECT * FROM MetalPrices\"\n",
    "df_query = pd.read_sql(query, con=engine)\n",
    "\n",
    "print(df_query)\n",
    "\n"
   ]
  },
  {
   "attachments": {},
   "cell_type": "markdown",
   "metadata": {},
   "source": [
    "Let's query using the WHERE statement"
   ]
  },
  {
   "cell_type": "code",
   "execution_count": 14,
   "metadata": {},
   "outputs": [
    {
     "name": "stdout",
     "output_type": "stream",
     "text": [
      "2025-03-31 01:05:02,628 INFO sqlalchemy.engine.Engine BEGIN (implicit)\n",
      "2025-03-31 01:05:02,630 INFO sqlalchemy.engine.Engine PRAGMA main.table_info(\"SELECT * FROM MetalPrices WHERE Metal = 'LME COPPER    3MO ($) (LMCADS03 Comdty)' AND Dates BETWEEN '2010-06-14' AND '2010-09-23'\")\n",
      "2025-03-31 01:05:02,631 INFO sqlalchemy.engine.Engine [raw sql] ()\n",
      "2025-03-31 01:05:02,633 INFO sqlalchemy.engine.Engine PRAGMA temp.table_info(\"SELECT * FROM MetalPrices WHERE Metal = 'LME COPPER    3MO ($) (LMCADS03 Comdty)' AND Dates BETWEEN '2010-06-14' AND '2010-09-23'\")\n",
      "2025-03-31 01:05:02,635 INFO sqlalchemy.engine.Engine [raw sql] ()\n",
      "2025-03-31 01:05:02,637 INFO sqlalchemy.engine.Engine SELECT * FROM MetalPrices WHERE Metal = 'LME COPPER    3MO ($) (LMCADS03 Comdty)' AND Dates BETWEEN '2010-06-14' AND '2010-09-23'\n",
      "2025-03-31 01:05:02,641 INFO sqlalchemy.engine.Engine [raw sql] ()\n",
      "2025-03-31 01:05:02,649 INFO sqlalchemy.engine.Engine ROLLBACK\n",
      "                         Dates                                    Metal  \\\n",
      "0   2010-06-14 00:00:00.000000  LME COPPER    3MO ($) (LMCADS03 Comdty)   \n",
      "1   2010-06-15 00:00:00.000000  LME COPPER    3MO ($) (LMCADS03 Comdty)   \n",
      "2   2010-06-16 00:00:00.000000  LME COPPER    3MO ($) (LMCADS03 Comdty)   \n",
      "3   2010-06-17 00:00:00.000000  LME COPPER    3MO ($) (LMCADS03 Comdty)   \n",
      "4   2010-06-18 00:00:00.000000  LME COPPER    3MO ($) (LMCADS03 Comdty)   \n",
      "..                         ...                                      ...   \n",
      "68  2010-09-16 00:00:00.000000  LME COPPER    3MO ($) (LMCADS03 Comdty)   \n",
      "69  2010-09-17 00:00:00.000000  LME COPPER    3MO ($) (LMCADS03 Comdty)   \n",
      "70  2010-09-20 00:00:00.000000  LME COPPER    3MO ($) (LMCADS03 Comdty)   \n",
      "71  2010-09-21 00:00:00.000000  LME COPPER    3MO ($) (LMCADS03 Comdty)   \n",
      "72  2010-09-22 00:00:00.000000  LME COPPER    3MO ($) (LMCADS03 Comdty)   \n",
      "\n",
      "     Price  \n",
      "0   6660.0  \n",
      "1   6680.0  \n",
      "2   6650.0  \n",
      "3   6446.0  \n",
      "4   6435.0  \n",
      "..     ...  \n",
      "68  7700.0  \n",
      "69  7720.0  \n",
      "70  7715.0  \n",
      "71  7680.0  \n",
      "72  7845.0  \n",
      "\n",
      "[73 rows x 3 columns]\n"
     ]
    }
   ],
   "source": [
    "# Read data from the database\n",
    "query = \"SELECT * FROM MetalPrices WHERE Metal = 'LME COPPER    3MO ($) (LMCADS03 Comdty)' AND Dates BETWEEN '2010-06-14' AND '2010-09-23'\"\n",
    "df_query = pd.read_sql(query, con=engine)\n",
    "\n",
    "print(df_query)"
   ]
  },
  {
   "attachments": {},
   "cell_type": "markdown",
   "metadata": {},
   "source": [
    "Create (Insert New Data)"
   ]
  },
  {
   "cell_type": "code",
   "execution_count": 16,
   "metadata": {},
   "outputs": [
    {
     "ename": "InvalidRequestError",
     "evalue": "This session is in 'prepared' state; no further SQL can be emitted within this transaction.",
     "output_type": "error",
     "traceback": [
      "\u001b[0;31m---------------------------------------------------------------------------\u001b[0m",
      "\u001b[0;31mInvalidRequestError\u001b[0m                       Traceback (most recent call last)",
      "Cell \u001b[0;32mIn[16], line 2\u001b[0m\n\u001b[1;32m      1\u001b[0m \u001b[39m# Insert a new metal price record\u001b[39;00m\n\u001b[0;32m----> 2\u001b[0m session\u001b[39m.\u001b[39;49mexecute(text(\u001b[39m\"\"\"\u001b[39;49m\n\u001b[1;32m      3\u001b[0m \u001b[39m    INSERT INTO MetalPrices (Dates, Metal, Price)\u001b[39;49m\n\u001b[1;32m      4\u001b[0m \u001b[39m    VALUES (\u001b[39;49m\u001b[39m'\u001b[39;49m\u001b[39m2023-01-06\u001b[39;49m\u001b[39m'\u001b[39;49m\u001b[39m, \u001b[39;49m\u001b[39m'\u001b[39;49m\u001b[39mLME COPPER    3MO ($) (LMCADS03 Comdty)\u001b[39;49m\u001b[39m'\u001b[39;49m\u001b[39m, 8589.50)\u001b[39;49m\n\u001b[1;32m      5\u001b[0m \u001b[39m\"\"\"\u001b[39;49m))\n\u001b[1;32m      7\u001b[0m session\u001b[39m.\u001b[39mcommit()\n\u001b[1;32m      8\u001b[0m \u001b[39mprint\u001b[39m(\u001b[39m\"\u001b[39m\u001b[39mNew data inserted successfully!\u001b[39m\u001b[39m\"\u001b[39m)\n",
      "File \u001b[0;32m~/miniconda3/envs/finance/lib/python3.11/site-packages/sqlalchemy/orm/session.py:2365\u001b[0m, in \u001b[0;36mSession.execute\u001b[0;34m(self, statement, params, execution_options, bind_arguments, _parent_execute_state, _add_event)\u001b[0m\n\u001b[1;32m   2305\u001b[0m \u001b[39mdef\u001b[39;00m \u001b[39mexecute\u001b[39m(\n\u001b[1;32m   2306\u001b[0m     \u001b[39mself\u001b[39m,\n\u001b[1;32m   2307\u001b[0m     statement: Executable,\n\u001b[0;32m   (...)\u001b[0m\n\u001b[1;32m   2313\u001b[0m     _add_event: Optional[Any] \u001b[39m=\u001b[39m \u001b[39mNone\u001b[39;00m,\n\u001b[1;32m   2314\u001b[0m ) \u001b[39m-\u001b[39m\u001b[39m>\u001b[39m Result[Any]:\n\u001b[1;32m   2315\u001b[0m \u001b[39m    \u001b[39m\u001b[39mr\u001b[39m\u001b[39m\"\"\"Execute a SQL expression construct.\u001b[39;00m\n\u001b[1;32m   2316\u001b[0m \n\u001b[1;32m   2317\u001b[0m \u001b[39m    Returns a :class:`_engine.Result` object representing\u001b[39;00m\n\u001b[0;32m   (...)\u001b[0m\n\u001b[1;32m   2363\u001b[0m \n\u001b[1;32m   2364\u001b[0m \u001b[39m    \"\"\"\u001b[39;00m\n\u001b[0;32m-> 2365\u001b[0m     \u001b[39mreturn\u001b[39;00m \u001b[39mself\u001b[39;49m\u001b[39m.\u001b[39;49m_execute_internal(\n\u001b[1;32m   2366\u001b[0m         statement,\n\u001b[1;32m   2367\u001b[0m         params,\n\u001b[1;32m   2368\u001b[0m         execution_options\u001b[39m=\u001b[39;49mexecution_options,\n\u001b[1;32m   2369\u001b[0m         bind_arguments\u001b[39m=\u001b[39;49mbind_arguments,\n\u001b[1;32m   2370\u001b[0m         _parent_execute_state\u001b[39m=\u001b[39;49m_parent_execute_state,\n\u001b[1;32m   2371\u001b[0m         _add_event\u001b[39m=\u001b[39;49m_add_event,\n\u001b[1;32m   2372\u001b[0m     )\n",
      "File \u001b[0;32m~/miniconda3/envs/finance/lib/python3.11/site-packages/sqlalchemy/orm/session.py:2241\u001b[0m, in \u001b[0;36mSession._execute_internal\u001b[0;34m(self, statement, params, execution_options, bind_arguments, _parent_execute_state, _add_event, _scalar_result)\u001b[0m\n\u001b[1;32m   2227\u001b[0m     (\n\u001b[1;32m   2228\u001b[0m         statement,\n\u001b[1;32m   2229\u001b[0m         execution_options,\n\u001b[0;32m   (...)\u001b[0m\n\u001b[1;32m   2236\u001b[0m         \u001b[39mFalse\u001b[39;00m,\n\u001b[1;32m   2237\u001b[0m     )\n\u001b[1;32m   2239\u001b[0m bind \u001b[39m=\u001b[39m \u001b[39mself\u001b[39m\u001b[39m.\u001b[39mget_bind(\u001b[39m*\u001b[39m\u001b[39m*\u001b[39mbind_arguments)\n\u001b[0;32m-> 2241\u001b[0m conn \u001b[39m=\u001b[39m \u001b[39mself\u001b[39;49m\u001b[39m.\u001b[39;49m_connection_for_bind(bind)\n\u001b[1;32m   2243\u001b[0m \u001b[39mif\u001b[39;00m _scalar_result \u001b[39mand\u001b[39;00m \u001b[39mnot\u001b[39;00m compile_state_cls:\n\u001b[1;32m   2244\u001b[0m     \u001b[39mif\u001b[39;00m TYPE_CHECKING:\n",
      "File \u001b[0;32m~/miniconda3/envs/finance/lib/python3.11/site-packages/sqlalchemy/orm/session.py:2110\u001b[0m, in \u001b[0;36mSession._connection_for_bind\u001b[0;34m(self, engine, execution_options, **kw)\u001b[0m\n\u001b[1;32m   2108\u001b[0m \u001b[39mif\u001b[39;00m trans \u001b[39mis\u001b[39;00m \u001b[39mNone\u001b[39;00m:\n\u001b[1;32m   2109\u001b[0m     trans \u001b[39m=\u001b[39m \u001b[39mself\u001b[39m\u001b[39m.\u001b[39m_autobegin_t()\n\u001b[0;32m-> 2110\u001b[0m \u001b[39mreturn\u001b[39;00m trans\u001b[39m.\u001b[39;49m_connection_for_bind(engine, execution_options)\n",
      "File \u001b[0;32m<string>:2\u001b[0m, in \u001b[0;36m_connection_for_bind\u001b[0;34m(self, bind, execution_options)\u001b[0m\n",
      "File \u001b[0;32m~/miniconda3/envs/finance/lib/python3.11/site-packages/sqlalchemy/orm/state_changes.py:103\u001b[0m, in \u001b[0;36m_StateChange.declare_states.<locals>._go\u001b[0;34m(fn, self, *arg, **kw)\u001b[0m\n\u001b[1;32m     97\u001b[0m current_state \u001b[39m=\u001b[39m \u001b[39mself\u001b[39m\u001b[39m.\u001b[39m_state\n\u001b[1;32m     99\u001b[0m \u001b[39mif\u001b[39;00m (\n\u001b[1;32m    100\u001b[0m     has_prerequisite_states\n\u001b[1;32m    101\u001b[0m     \u001b[39mand\u001b[39;00m current_state \u001b[39mnot\u001b[39;00m \u001b[39min\u001b[39;00m prerequisite_state_collection\n\u001b[1;32m    102\u001b[0m ):\n\u001b[0;32m--> 103\u001b[0m     \u001b[39mself\u001b[39;49m\u001b[39m.\u001b[39;49m_raise_for_prerequisite_state(fn\u001b[39m.\u001b[39;49m\u001b[39m__name__\u001b[39;49m, current_state)\n\u001b[1;32m    105\u001b[0m next_state \u001b[39m=\u001b[39m \u001b[39mself\u001b[39m\u001b[39m.\u001b[39m_next_state\n\u001b[1;32m    106\u001b[0m existing_fn \u001b[39m=\u001b[39m \u001b[39mself\u001b[39m\u001b[39m.\u001b[39m_current_fn\n",
      "File \u001b[0;32m~/miniconda3/envs/finance/lib/python3.11/site-packages/sqlalchemy/orm/session.py:996\u001b[0m, in \u001b[0;36mSessionTransaction._raise_for_prerequisite_state\u001b[0;34m(self, operation_name, state)\u001b[0m\n\u001b[1;32m    990\u001b[0m     \u001b[39mraise\u001b[39;00m sa_exc\u001b[39m.\u001b[39mInvalidRequestError(\n\u001b[1;32m    991\u001b[0m         \u001b[39m\"\u001b[39m\u001b[39mThis session is provisioning a new connection; concurrent \u001b[39m\u001b[39m\"\u001b[39m\n\u001b[1;32m    992\u001b[0m         \u001b[39m\"\u001b[39m\u001b[39moperations are not permitted\u001b[39m\u001b[39m\"\u001b[39m,\n\u001b[1;32m    993\u001b[0m         code\u001b[39m=\u001b[39m\u001b[39m\"\u001b[39m\u001b[39misce\u001b[39m\u001b[39m\"\u001b[39m,\n\u001b[1;32m    994\u001b[0m     )\n\u001b[1;32m    995\u001b[0m \u001b[39melse\u001b[39;00m:\n\u001b[0;32m--> 996\u001b[0m     \u001b[39mraise\u001b[39;00m sa_exc\u001b[39m.\u001b[39mInvalidRequestError(\n\u001b[1;32m    997\u001b[0m         \u001b[39mf\u001b[39m\u001b[39m\"\u001b[39m\u001b[39mThis session is in \u001b[39m\u001b[39m'\u001b[39m\u001b[39m{\u001b[39;00mstate\u001b[39m.\u001b[39mname\u001b[39m.\u001b[39mlower()\u001b[39m}\u001b[39;00m\u001b[39m'\u001b[39m\u001b[39m state; no \u001b[39m\u001b[39m\"\u001b[39m\n\u001b[1;32m    998\u001b[0m         \u001b[39m\"\u001b[39m\u001b[39mfurther SQL can be emitted within this transaction.\u001b[39m\u001b[39m\"\u001b[39m\n\u001b[1;32m    999\u001b[0m     )\n",
      "\u001b[0;31mInvalidRequestError\u001b[0m: This session is in 'prepared' state; no further SQL can be emitted within this transaction."
     ]
    }
   ],
   "source": [
    "# Insert a new metal price record\n",
    "session.execute(text(\"\"\"\n",
    "    INSERT INTO MetalPrices (Dates, Metal, Price)\n",
    "    VALUES ('2023-01-06', 'LME COPPER    3MO ($) (LMCADS03 Comdty)', 8589.50)\n",
    "\"\"\"))\n",
    "\n",
    "session.commit()\n",
    "print(\"New data inserted successfully!\")"
   ]
  },
  {
   "attachments": {},
   "cell_type": "markdown",
   "metadata": {},
   "source": [
    "Update Data"
   ]
  },
  {
   "cell_type": "code",
   "execution_count": 17,
   "metadata": {},
   "outputs": [
    {
     "ename": "InvalidRequestError",
     "evalue": "This session is in 'prepared' state; no further SQL can be emitted within this transaction.",
     "output_type": "error",
     "traceback": [
      "\u001b[0;31m---------------------------------------------------------------------------\u001b[0m",
      "\u001b[0;31mInvalidRequestError\u001b[0m                       Traceback (most recent call last)",
      "Cell \u001b[0;32mIn[17], line 2\u001b[0m\n\u001b[1;32m      1\u001b[0m \u001b[39m# Update price for a specific metal and date\u001b[39;00m\n\u001b[0;32m----> 2\u001b[0m session\u001b[39m.\u001b[39;49mexecute(text(\u001b[39m\"\"\"\u001b[39;49m\n\u001b[1;32m      3\u001b[0m \u001b[39m    UPDATE MetalPrices\u001b[39;49m\n\u001b[1;32m      4\u001b[0m \u001b[39m    SET Price = 8600.00\u001b[39;49m\n\u001b[1;32m      5\u001b[0m \u001b[39m    WHERE metal = \u001b[39;49m\u001b[39m'\u001b[39;49m\u001b[39mLME COPPER    3MO ($) (LMCADS03 Comdty)\u001b[39;49m\u001b[39m'\u001b[39;49m\u001b[39m AND Dates = \u001b[39;49m\u001b[39m'\u001b[39;49m\u001b[39m2022-01-02\u001b[39;49m\u001b[39m'\u001b[39;49m\n\u001b[1;32m      6\u001b[0m \u001b[39m\"\"\"\u001b[39;49m))\n\u001b[1;32m      8\u001b[0m session\u001b[39m.\u001b[39mcommit()\n\u001b[1;32m      9\u001b[0m \u001b[39mprint\u001b[39m(\u001b[39m\"\u001b[39m\u001b[39mPrice updated successfully!\u001b[39m\u001b[39m\"\u001b[39m)\n",
      "File \u001b[0;32m~/miniconda3/envs/finance/lib/python3.11/site-packages/sqlalchemy/orm/session.py:2365\u001b[0m, in \u001b[0;36mSession.execute\u001b[0;34m(self, statement, params, execution_options, bind_arguments, _parent_execute_state, _add_event)\u001b[0m\n\u001b[1;32m   2305\u001b[0m \u001b[39mdef\u001b[39;00m \u001b[39mexecute\u001b[39m(\n\u001b[1;32m   2306\u001b[0m     \u001b[39mself\u001b[39m,\n\u001b[1;32m   2307\u001b[0m     statement: Executable,\n\u001b[0;32m   (...)\u001b[0m\n\u001b[1;32m   2313\u001b[0m     _add_event: Optional[Any] \u001b[39m=\u001b[39m \u001b[39mNone\u001b[39;00m,\n\u001b[1;32m   2314\u001b[0m ) \u001b[39m-\u001b[39m\u001b[39m>\u001b[39m Result[Any]:\n\u001b[1;32m   2315\u001b[0m \u001b[39m    \u001b[39m\u001b[39mr\u001b[39m\u001b[39m\"\"\"Execute a SQL expression construct.\u001b[39;00m\n\u001b[1;32m   2316\u001b[0m \n\u001b[1;32m   2317\u001b[0m \u001b[39m    Returns a :class:`_engine.Result` object representing\u001b[39;00m\n\u001b[0;32m   (...)\u001b[0m\n\u001b[1;32m   2363\u001b[0m \n\u001b[1;32m   2364\u001b[0m \u001b[39m    \"\"\"\u001b[39;00m\n\u001b[0;32m-> 2365\u001b[0m     \u001b[39mreturn\u001b[39;00m \u001b[39mself\u001b[39;49m\u001b[39m.\u001b[39;49m_execute_internal(\n\u001b[1;32m   2366\u001b[0m         statement,\n\u001b[1;32m   2367\u001b[0m         params,\n\u001b[1;32m   2368\u001b[0m         execution_options\u001b[39m=\u001b[39;49mexecution_options,\n\u001b[1;32m   2369\u001b[0m         bind_arguments\u001b[39m=\u001b[39;49mbind_arguments,\n\u001b[1;32m   2370\u001b[0m         _parent_execute_state\u001b[39m=\u001b[39;49m_parent_execute_state,\n\u001b[1;32m   2371\u001b[0m         _add_event\u001b[39m=\u001b[39;49m_add_event,\n\u001b[1;32m   2372\u001b[0m     )\n",
      "File \u001b[0;32m~/miniconda3/envs/finance/lib/python3.11/site-packages/sqlalchemy/orm/session.py:2241\u001b[0m, in \u001b[0;36mSession._execute_internal\u001b[0;34m(self, statement, params, execution_options, bind_arguments, _parent_execute_state, _add_event, _scalar_result)\u001b[0m\n\u001b[1;32m   2227\u001b[0m     (\n\u001b[1;32m   2228\u001b[0m         statement,\n\u001b[1;32m   2229\u001b[0m         execution_options,\n\u001b[0;32m   (...)\u001b[0m\n\u001b[1;32m   2236\u001b[0m         \u001b[39mFalse\u001b[39;00m,\n\u001b[1;32m   2237\u001b[0m     )\n\u001b[1;32m   2239\u001b[0m bind \u001b[39m=\u001b[39m \u001b[39mself\u001b[39m\u001b[39m.\u001b[39mget_bind(\u001b[39m*\u001b[39m\u001b[39m*\u001b[39mbind_arguments)\n\u001b[0;32m-> 2241\u001b[0m conn \u001b[39m=\u001b[39m \u001b[39mself\u001b[39;49m\u001b[39m.\u001b[39;49m_connection_for_bind(bind)\n\u001b[1;32m   2243\u001b[0m \u001b[39mif\u001b[39;00m _scalar_result \u001b[39mand\u001b[39;00m \u001b[39mnot\u001b[39;00m compile_state_cls:\n\u001b[1;32m   2244\u001b[0m     \u001b[39mif\u001b[39;00m TYPE_CHECKING:\n",
      "File \u001b[0;32m~/miniconda3/envs/finance/lib/python3.11/site-packages/sqlalchemy/orm/session.py:2110\u001b[0m, in \u001b[0;36mSession._connection_for_bind\u001b[0;34m(self, engine, execution_options, **kw)\u001b[0m\n\u001b[1;32m   2108\u001b[0m \u001b[39mif\u001b[39;00m trans \u001b[39mis\u001b[39;00m \u001b[39mNone\u001b[39;00m:\n\u001b[1;32m   2109\u001b[0m     trans \u001b[39m=\u001b[39m \u001b[39mself\u001b[39m\u001b[39m.\u001b[39m_autobegin_t()\n\u001b[0;32m-> 2110\u001b[0m \u001b[39mreturn\u001b[39;00m trans\u001b[39m.\u001b[39;49m_connection_for_bind(engine, execution_options)\n",
      "File \u001b[0;32m<string>:2\u001b[0m, in \u001b[0;36m_connection_for_bind\u001b[0;34m(self, bind, execution_options)\u001b[0m\n",
      "File \u001b[0;32m~/miniconda3/envs/finance/lib/python3.11/site-packages/sqlalchemy/orm/state_changes.py:103\u001b[0m, in \u001b[0;36m_StateChange.declare_states.<locals>._go\u001b[0;34m(fn, self, *arg, **kw)\u001b[0m\n\u001b[1;32m     97\u001b[0m current_state \u001b[39m=\u001b[39m \u001b[39mself\u001b[39m\u001b[39m.\u001b[39m_state\n\u001b[1;32m     99\u001b[0m \u001b[39mif\u001b[39;00m (\n\u001b[1;32m    100\u001b[0m     has_prerequisite_states\n\u001b[1;32m    101\u001b[0m     \u001b[39mand\u001b[39;00m current_state \u001b[39mnot\u001b[39;00m \u001b[39min\u001b[39;00m prerequisite_state_collection\n\u001b[1;32m    102\u001b[0m ):\n\u001b[0;32m--> 103\u001b[0m     \u001b[39mself\u001b[39;49m\u001b[39m.\u001b[39;49m_raise_for_prerequisite_state(fn\u001b[39m.\u001b[39;49m\u001b[39m__name__\u001b[39;49m, current_state)\n\u001b[1;32m    105\u001b[0m next_state \u001b[39m=\u001b[39m \u001b[39mself\u001b[39m\u001b[39m.\u001b[39m_next_state\n\u001b[1;32m    106\u001b[0m existing_fn \u001b[39m=\u001b[39m \u001b[39mself\u001b[39m\u001b[39m.\u001b[39m_current_fn\n",
      "File \u001b[0;32m~/miniconda3/envs/finance/lib/python3.11/site-packages/sqlalchemy/orm/session.py:996\u001b[0m, in \u001b[0;36mSessionTransaction._raise_for_prerequisite_state\u001b[0;34m(self, operation_name, state)\u001b[0m\n\u001b[1;32m    990\u001b[0m     \u001b[39mraise\u001b[39;00m sa_exc\u001b[39m.\u001b[39mInvalidRequestError(\n\u001b[1;32m    991\u001b[0m         \u001b[39m\"\u001b[39m\u001b[39mThis session is provisioning a new connection; concurrent \u001b[39m\u001b[39m\"\u001b[39m\n\u001b[1;32m    992\u001b[0m         \u001b[39m\"\u001b[39m\u001b[39moperations are not permitted\u001b[39m\u001b[39m\"\u001b[39m,\n\u001b[1;32m    993\u001b[0m         code\u001b[39m=\u001b[39m\u001b[39m\"\u001b[39m\u001b[39misce\u001b[39m\u001b[39m\"\u001b[39m,\n\u001b[1;32m    994\u001b[0m     )\n\u001b[1;32m    995\u001b[0m \u001b[39melse\u001b[39;00m:\n\u001b[0;32m--> 996\u001b[0m     \u001b[39mraise\u001b[39;00m sa_exc\u001b[39m.\u001b[39mInvalidRequestError(\n\u001b[1;32m    997\u001b[0m         \u001b[39mf\u001b[39m\u001b[39m\"\u001b[39m\u001b[39mThis session is in \u001b[39m\u001b[39m'\u001b[39m\u001b[39m{\u001b[39;00mstate\u001b[39m.\u001b[39mname\u001b[39m.\u001b[39mlower()\u001b[39m}\u001b[39;00m\u001b[39m'\u001b[39m\u001b[39m state; no \u001b[39m\u001b[39m\"\u001b[39m\n\u001b[1;32m    998\u001b[0m         \u001b[39m\"\u001b[39m\u001b[39mfurther SQL can be emitted within this transaction.\u001b[39m\u001b[39m\"\u001b[39m\n\u001b[1;32m    999\u001b[0m     )\n",
      "\u001b[0;31mInvalidRequestError\u001b[0m: This session is in 'prepared' state; no further SQL can be emitted within this transaction."
     ]
    }
   ],
   "source": [
    "# Update price for a specific metal and date\n",
    "session.execute(text(\"\"\"\n",
    "    UPDATE MetalPrices\n",
    "    SET Price = 8600.00\n",
    "    WHERE metal = 'LME COPPER    3MO ($) (LMCADS03 Comdty)' AND Dates = '2022-01-02'\n",
    "\"\"\"))\n",
    "\n",
    "session.commit()\n",
    "print(\"Price updated successfully!\")"
   ]
  },
  {
   "attachments": {},
   "cell_type": "markdown",
   "metadata": {},
   "source": [
    "Delete Data"
   ]
  },
  {
   "cell_type": "code",
   "execution_count": 18,
   "metadata": {},
   "outputs": [
    {
     "ename": "InvalidRequestError",
     "evalue": "This session is in 'prepared' state; no further SQL can be emitted within this transaction.",
     "output_type": "error",
     "traceback": [
      "\u001b[0;31m---------------------------------------------------------------------------\u001b[0m",
      "\u001b[0;31mInvalidRequestError\u001b[0m                       Traceback (most recent call last)",
      "Cell \u001b[0;32mIn[18], line 2\u001b[0m\n\u001b[1;32m      1\u001b[0m \u001b[39m# Delete a specific record\u001b[39;00m\n\u001b[0;32m----> 2\u001b[0m session\u001b[39m.\u001b[39;49mexecute(text(\u001b[39m\"\"\"\u001b[39;49m\n\u001b[1;32m      3\u001b[0m \u001b[39m    DELETE FROM MetalPrices\u001b[39;49m\n\u001b[1;32m      4\u001b[0m \u001b[39m    WHERE Metal = \u001b[39;49m\u001b[39m'\u001b[39;49m\u001b[39mLME ZINC      3MO ($) (LMZSDS03 Comdty)\u001b[39;49m\u001b[39m'\u001b[39;49m\u001b[39m AND Dates = \u001b[39;49m\u001b[39m'\u001b[39;49m\u001b[39m2010-01-28\u001b[39;49m\u001b[39m'\u001b[39;49m\n\u001b[1;32m      5\u001b[0m \u001b[39m\"\"\"\u001b[39;49m))\n\u001b[1;32m      7\u001b[0m session\u001b[39m.\u001b[39mcommit()\n\u001b[1;32m      8\u001b[0m \u001b[39mprint\u001b[39m(\u001b[39m\"\u001b[39m\u001b[39mRecord deleted successfully!\u001b[39m\u001b[39m\"\u001b[39m)\n",
      "File \u001b[0;32m~/miniconda3/envs/finance/lib/python3.11/site-packages/sqlalchemy/orm/session.py:2365\u001b[0m, in \u001b[0;36mSession.execute\u001b[0;34m(self, statement, params, execution_options, bind_arguments, _parent_execute_state, _add_event)\u001b[0m\n\u001b[1;32m   2305\u001b[0m \u001b[39mdef\u001b[39;00m \u001b[39mexecute\u001b[39m(\n\u001b[1;32m   2306\u001b[0m     \u001b[39mself\u001b[39m,\n\u001b[1;32m   2307\u001b[0m     statement: Executable,\n\u001b[0;32m   (...)\u001b[0m\n\u001b[1;32m   2313\u001b[0m     _add_event: Optional[Any] \u001b[39m=\u001b[39m \u001b[39mNone\u001b[39;00m,\n\u001b[1;32m   2314\u001b[0m ) \u001b[39m-\u001b[39m\u001b[39m>\u001b[39m Result[Any]:\n\u001b[1;32m   2315\u001b[0m \u001b[39m    \u001b[39m\u001b[39mr\u001b[39m\u001b[39m\"\"\"Execute a SQL expression construct.\u001b[39;00m\n\u001b[1;32m   2316\u001b[0m \n\u001b[1;32m   2317\u001b[0m \u001b[39m    Returns a :class:`_engine.Result` object representing\u001b[39;00m\n\u001b[0;32m   (...)\u001b[0m\n\u001b[1;32m   2363\u001b[0m \n\u001b[1;32m   2364\u001b[0m \u001b[39m    \"\"\"\u001b[39;00m\n\u001b[0;32m-> 2365\u001b[0m     \u001b[39mreturn\u001b[39;00m \u001b[39mself\u001b[39;49m\u001b[39m.\u001b[39;49m_execute_internal(\n\u001b[1;32m   2366\u001b[0m         statement,\n\u001b[1;32m   2367\u001b[0m         params,\n\u001b[1;32m   2368\u001b[0m         execution_options\u001b[39m=\u001b[39;49mexecution_options,\n\u001b[1;32m   2369\u001b[0m         bind_arguments\u001b[39m=\u001b[39;49mbind_arguments,\n\u001b[1;32m   2370\u001b[0m         _parent_execute_state\u001b[39m=\u001b[39;49m_parent_execute_state,\n\u001b[1;32m   2371\u001b[0m         _add_event\u001b[39m=\u001b[39;49m_add_event,\n\u001b[1;32m   2372\u001b[0m     )\n",
      "File \u001b[0;32m~/miniconda3/envs/finance/lib/python3.11/site-packages/sqlalchemy/orm/session.py:2241\u001b[0m, in \u001b[0;36mSession._execute_internal\u001b[0;34m(self, statement, params, execution_options, bind_arguments, _parent_execute_state, _add_event, _scalar_result)\u001b[0m\n\u001b[1;32m   2227\u001b[0m     (\n\u001b[1;32m   2228\u001b[0m         statement,\n\u001b[1;32m   2229\u001b[0m         execution_options,\n\u001b[0;32m   (...)\u001b[0m\n\u001b[1;32m   2236\u001b[0m         \u001b[39mFalse\u001b[39;00m,\n\u001b[1;32m   2237\u001b[0m     )\n\u001b[1;32m   2239\u001b[0m bind \u001b[39m=\u001b[39m \u001b[39mself\u001b[39m\u001b[39m.\u001b[39mget_bind(\u001b[39m*\u001b[39m\u001b[39m*\u001b[39mbind_arguments)\n\u001b[0;32m-> 2241\u001b[0m conn \u001b[39m=\u001b[39m \u001b[39mself\u001b[39;49m\u001b[39m.\u001b[39;49m_connection_for_bind(bind)\n\u001b[1;32m   2243\u001b[0m \u001b[39mif\u001b[39;00m _scalar_result \u001b[39mand\u001b[39;00m \u001b[39mnot\u001b[39;00m compile_state_cls:\n\u001b[1;32m   2244\u001b[0m     \u001b[39mif\u001b[39;00m TYPE_CHECKING:\n",
      "File \u001b[0;32m~/miniconda3/envs/finance/lib/python3.11/site-packages/sqlalchemy/orm/session.py:2110\u001b[0m, in \u001b[0;36mSession._connection_for_bind\u001b[0;34m(self, engine, execution_options, **kw)\u001b[0m\n\u001b[1;32m   2108\u001b[0m \u001b[39mif\u001b[39;00m trans \u001b[39mis\u001b[39;00m \u001b[39mNone\u001b[39;00m:\n\u001b[1;32m   2109\u001b[0m     trans \u001b[39m=\u001b[39m \u001b[39mself\u001b[39m\u001b[39m.\u001b[39m_autobegin_t()\n\u001b[0;32m-> 2110\u001b[0m \u001b[39mreturn\u001b[39;00m trans\u001b[39m.\u001b[39;49m_connection_for_bind(engine, execution_options)\n",
      "File \u001b[0;32m<string>:2\u001b[0m, in \u001b[0;36m_connection_for_bind\u001b[0;34m(self, bind, execution_options)\u001b[0m\n",
      "File \u001b[0;32m~/miniconda3/envs/finance/lib/python3.11/site-packages/sqlalchemy/orm/state_changes.py:103\u001b[0m, in \u001b[0;36m_StateChange.declare_states.<locals>._go\u001b[0;34m(fn, self, *arg, **kw)\u001b[0m\n\u001b[1;32m     97\u001b[0m current_state \u001b[39m=\u001b[39m \u001b[39mself\u001b[39m\u001b[39m.\u001b[39m_state\n\u001b[1;32m     99\u001b[0m \u001b[39mif\u001b[39;00m (\n\u001b[1;32m    100\u001b[0m     has_prerequisite_states\n\u001b[1;32m    101\u001b[0m     \u001b[39mand\u001b[39;00m current_state \u001b[39mnot\u001b[39;00m \u001b[39min\u001b[39;00m prerequisite_state_collection\n\u001b[1;32m    102\u001b[0m ):\n\u001b[0;32m--> 103\u001b[0m     \u001b[39mself\u001b[39;49m\u001b[39m.\u001b[39;49m_raise_for_prerequisite_state(fn\u001b[39m.\u001b[39;49m\u001b[39m__name__\u001b[39;49m, current_state)\n\u001b[1;32m    105\u001b[0m next_state \u001b[39m=\u001b[39m \u001b[39mself\u001b[39m\u001b[39m.\u001b[39m_next_state\n\u001b[1;32m    106\u001b[0m existing_fn \u001b[39m=\u001b[39m \u001b[39mself\u001b[39m\u001b[39m.\u001b[39m_current_fn\n",
      "File \u001b[0;32m~/miniconda3/envs/finance/lib/python3.11/site-packages/sqlalchemy/orm/session.py:996\u001b[0m, in \u001b[0;36mSessionTransaction._raise_for_prerequisite_state\u001b[0;34m(self, operation_name, state)\u001b[0m\n\u001b[1;32m    990\u001b[0m     \u001b[39mraise\u001b[39;00m sa_exc\u001b[39m.\u001b[39mInvalidRequestError(\n\u001b[1;32m    991\u001b[0m         \u001b[39m\"\u001b[39m\u001b[39mThis session is provisioning a new connection; concurrent \u001b[39m\u001b[39m\"\u001b[39m\n\u001b[1;32m    992\u001b[0m         \u001b[39m\"\u001b[39m\u001b[39moperations are not permitted\u001b[39m\u001b[39m\"\u001b[39m,\n\u001b[1;32m    993\u001b[0m         code\u001b[39m=\u001b[39m\u001b[39m\"\u001b[39m\u001b[39misce\u001b[39m\u001b[39m\"\u001b[39m,\n\u001b[1;32m    994\u001b[0m     )\n\u001b[1;32m    995\u001b[0m \u001b[39melse\u001b[39;00m:\n\u001b[0;32m--> 996\u001b[0m     \u001b[39mraise\u001b[39;00m sa_exc\u001b[39m.\u001b[39mInvalidRequestError(\n\u001b[1;32m    997\u001b[0m         \u001b[39mf\u001b[39m\u001b[39m\"\u001b[39m\u001b[39mThis session is in \u001b[39m\u001b[39m'\u001b[39m\u001b[39m{\u001b[39;00mstate\u001b[39m.\u001b[39mname\u001b[39m.\u001b[39mlower()\u001b[39m}\u001b[39;00m\u001b[39m'\u001b[39m\u001b[39m state; no \u001b[39m\u001b[39m\"\u001b[39m\n\u001b[1;32m    998\u001b[0m         \u001b[39m\"\u001b[39m\u001b[39mfurther SQL can be emitted within this transaction.\u001b[39m\u001b[39m\"\u001b[39m\n\u001b[1;32m    999\u001b[0m     )\n",
      "\u001b[0;31mInvalidRequestError\u001b[0m: This session is in 'prepared' state; no further SQL can be emitted within this transaction."
     ]
    }
   ],
   "source": [
    "# Delete a specific record\n",
    "session.execute(text(\"\"\"\n",
    "    DELETE FROM MetalPrices\n",
    "    WHERE Metal = 'LME ZINC      3MO ($) (LMZSDS03 Comdty)' AND Dates = '2010-01-28'\n",
    "\"\"\"))\n",
    "\n",
    "session.commit()\n",
    "print(\"Record deleted successfully!\")"
   ]
  },
  {
   "attachments": {},
   "cell_type": "markdown",
   "metadata": {},
   "source": [
    "Closing the Database Connection"
   ]
  },
  {
   "cell_type": "code",
   "execution_count": 25,
   "metadata": {},
   "outputs": [
    {
     "name": "stdout",
     "output_type": "stream",
     "text": [
      "Database connection closed.\n"
     ]
    }
   ],
   "source": [
    "session.close()\n",
    "engine.dispose()\n",
    "print(\"Database connection closed.\")"
   ]
  }
 ],
 "metadata": {
  "kernelspec": {
   "display_name": "finance",
   "language": "python",
   "name": "python3"
  },
  "language_info": {
   "codemirror_mode": {
    "name": "ipython",
    "version": 3
   },
   "file_extension": ".py",
   "mimetype": "text/x-python",
   "name": "python",
   "nbconvert_exporter": "python",
   "pygments_lexer": "ipython3",
   "version": "3.11.9"
  },
  "orig_nbformat": 4
 },
 "nbformat": 4,
 "nbformat_minor": 2
}
