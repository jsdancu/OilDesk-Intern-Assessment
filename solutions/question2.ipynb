{
 "cells": [
  {
   "attachments": {},
   "cell_type": "markdown",
   "metadata": {},
   "source": [
    "## Question 2: CRUD Operations in SQL Server"
   ]
  },
  {
   "cell_type": "code",
   "execution_count": 1,
   "metadata": {},
   "outputs": [],
   "source": [
    "# Import Python packages\n",
    "import numpy as np\n",
    "import pandas as pd\n",
    "from datetime import date, datetime"
   ]
  },
  {
   "attachments": {},
   "cell_type": "markdown",
   "metadata": {},
   "source": [
    "Create an SQL table schema to store time-series metal prices. Include fields like Date, Metal, Price. \n",
    "I think we are not meant to populate the table with the contents of the CSV file so skip the next 3 cells."
   ]
  },
  {
   "cell_type": "code",
   "execution_count": 2,
   "metadata": {},
   "outputs": [],
   "source": [
    "# data_file = \"../data/MarketData.csv\"\n",
    "# try:\n",
    "#     # Read in data set from the csv file, skip initial metadata rows (first 3 rows)\n",
    "#     f = open(data_file, 'rb')\n",
    "#     df = pd.read_csv(f, skiprows = 3, header = [0, 1, 2, 3])\n",
    "\n",
    "#     # Drop the first column name from the multi-index (for \"Dates\" column)\n",
    "#     df.columns = ['Dates'] + [f\"{col[0]} ({col[1]})\" for col in df.columns[1:]]\n",
    "    \n",
    "# except:\n",
    "#     print('Error opening file/loading data')"
   ]
  },
  {
   "cell_type": "code",
   "execution_count": 3,
   "metadata": {},
   "outputs": [
    {
     "data": {
      "text/html": [
       "<div>\n",
       "<style scoped>\n",
       "    .dataframe tbody tr th:only-of-type {\n",
       "        vertical-align: middle;\n",
       "    }\n",
       "\n",
       "    .dataframe tbody tr th {\n",
       "        vertical-align: top;\n",
       "    }\n",
       "\n",
       "    .dataframe thead th {\n",
       "        text-align: right;\n",
       "    }\n",
       "</style>\n",
       "<table border=\"1\" class=\"dataframe\">\n",
       "  <thead>\n",
       "    <tr style=\"text-align: right;\">\n",
       "      <th></th>\n",
       "      <th>Dates</th>\n",
       "      <th>LME COPPER    3MO ($) (LMCADS03 Comdty)</th>\n",
       "      <th>LME ALUMINUM  3MO ($) (LMAHDS03 Comdty)</th>\n",
       "      <th>LME ZINC      3MO ($) (LMZSDS03 Comdty)</th>\n",
       "      <th>LME LEAD      3MO ($) (LMPBDS03 Comdty)</th>\n",
       "      <th>LME TIN       3MO ($) (LMSNDS03 Comdty)</th>\n",
       "      <th>Generic 1st 'CL' Future (CL1 Comdty)</th>\n",
       "    </tr>\n",
       "  </thead>\n",
       "  <tbody>\n",
       "    <tr>\n",
       "      <th>0</th>\n",
       "      <td>2010-01-01</td>\n",
       "      <td>7375.0</td>\n",
       "      <td>2230.0</td>\n",
       "      <td>2560.0</td>\n",
       "      <td>2432.0</td>\n",
       "      <td>16950</td>\n",
       "      <td>79.36</td>\n",
       "    </tr>\n",
       "    <tr>\n",
       "      <th>1</th>\n",
       "      <td>2010-01-04</td>\n",
       "      <td>7500.0</td>\n",
       "      <td>2267.0</td>\n",
       "      <td>2574.0</td>\n",
       "      <td>2515.0</td>\n",
       "      <td>17450</td>\n",
       "      <td>81.51</td>\n",
       "    </tr>\n",
       "    <tr>\n",
       "      <th>2</th>\n",
       "      <td>2010-01-05</td>\n",
       "      <td>7485.0</td>\n",
       "      <td>2302.0</td>\n",
       "      <td>2575.0</td>\n",
       "      <td>2522.5</td>\n",
       "      <td>17375</td>\n",
       "      <td>81.77</td>\n",
       "    </tr>\n",
       "    <tr>\n",
       "      <th>3</th>\n",
       "      <td>2010-01-06</td>\n",
       "      <td>7660.0</td>\n",
       "      <td>2377.0</td>\n",
       "      <td>2718.0</td>\n",
       "      <td>2680.0</td>\n",
       "      <td>17825</td>\n",
       "      <td>83.18</td>\n",
       "    </tr>\n",
       "    <tr>\n",
       "      <th>4</th>\n",
       "      <td>2010-01-07</td>\n",
       "      <td>7535.0</td>\n",
       "      <td>2310.0</td>\n",
       "      <td>2607.0</td>\n",
       "      <td>2599.0</td>\n",
       "      <td>17475</td>\n",
       "      <td>82.66</td>\n",
       "    </tr>\n",
       "    <tr>\n",
       "      <th>...</th>\n",
       "      <td>...</td>\n",
       "      <td>...</td>\n",
       "      <td>...</td>\n",
       "      <td>...</td>\n",
       "      <td>...</td>\n",
       "      <td>...</td>\n",
       "      <td>...</td>\n",
       "    </tr>\n",
       "    <tr>\n",
       "      <th>3386</th>\n",
       "      <td>2022-12-26</td>\n",
       "      <td>8349.5</td>\n",
       "      <td>2389.5</td>\n",
       "      <td>2965.0</td>\n",
       "      <td>2273.5</td>\n",
       "      <td>23934</td>\n",
       "      <td>79.56</td>\n",
       "    </tr>\n",
       "    <tr>\n",
       "      <th>3387</th>\n",
       "      <td>2022-12-27</td>\n",
       "      <td>8349.5</td>\n",
       "      <td>2389.5</td>\n",
       "      <td>2965.0</td>\n",
       "      <td>2273.5</td>\n",
       "      <td>23934</td>\n",
       "      <td>79.53</td>\n",
       "    </tr>\n",
       "    <tr>\n",
       "      <th>3388</th>\n",
       "      <td>2022-12-28</td>\n",
       "      <td>8443.0</td>\n",
       "      <td>2381.0</td>\n",
       "      <td>3005.5</td>\n",
       "      <td>2218.0</td>\n",
       "      <td>24734</td>\n",
       "      <td>78.96</td>\n",
       "    </tr>\n",
       "    <tr>\n",
       "      <th>3389</th>\n",
       "      <td>2022-12-29</td>\n",
       "      <td>8418.0</td>\n",
       "      <td>2405.0</td>\n",
       "      <td>2984.5</td>\n",
       "      <td>2272.5</td>\n",
       "      <td>24915</td>\n",
       "      <td>78.40</td>\n",
       "    </tr>\n",
       "    <tr>\n",
       "      <th>3390</th>\n",
       "      <td>2022-12-30</td>\n",
       "      <td>8372.0</td>\n",
       "      <td>2378.0</td>\n",
       "      <td>2972.5</td>\n",
       "      <td>2293.0</td>\n",
       "      <td>24808</td>\n",
       "      <td>80.26</td>\n",
       "    </tr>\n",
       "  </tbody>\n",
       "</table>\n",
       "<p>3391 rows × 7 columns</p>\n",
       "</div>"
      ],
      "text/plain": [
       "          Dates  LME COPPER    3MO ($) (LMCADS03 Comdty)  \\\n",
       "0    2010-01-01                                   7375.0   \n",
       "1    2010-01-04                                   7500.0   \n",
       "2    2010-01-05                                   7485.0   \n",
       "3    2010-01-06                                   7660.0   \n",
       "4    2010-01-07                                   7535.0   \n",
       "...         ...                                      ...   \n",
       "3386 2022-12-26                                   8349.5   \n",
       "3387 2022-12-27                                   8349.5   \n",
       "3388 2022-12-28                                   8443.0   \n",
       "3389 2022-12-29                                   8418.0   \n",
       "3390 2022-12-30                                   8372.0   \n",
       "\n",
       "      LME ALUMINUM  3MO ($) (LMAHDS03 Comdty)  \\\n",
       "0                                      2230.0   \n",
       "1                                      2267.0   \n",
       "2                                      2302.0   \n",
       "3                                      2377.0   \n",
       "4                                      2310.0   \n",
       "...                                       ...   \n",
       "3386                                   2389.5   \n",
       "3387                                   2389.5   \n",
       "3388                                   2381.0   \n",
       "3389                                   2405.0   \n",
       "3390                                   2378.0   \n",
       "\n",
       "      LME ZINC      3MO ($) (LMZSDS03 Comdty)  \\\n",
       "0                                      2560.0   \n",
       "1                                      2574.0   \n",
       "2                                      2575.0   \n",
       "3                                      2718.0   \n",
       "4                                      2607.0   \n",
       "...                                       ...   \n",
       "3386                                   2965.0   \n",
       "3387                                   2965.0   \n",
       "3388                                   3005.5   \n",
       "3389                                   2984.5   \n",
       "3390                                   2972.5   \n",
       "\n",
       "      LME LEAD      3MO ($) (LMPBDS03 Comdty)  \\\n",
       "0                                      2432.0   \n",
       "1                                      2515.0   \n",
       "2                                      2522.5   \n",
       "3                                      2680.0   \n",
       "4                                      2599.0   \n",
       "...                                       ...   \n",
       "3386                                   2273.5   \n",
       "3387                                   2273.5   \n",
       "3388                                   2218.0   \n",
       "3389                                   2272.5   \n",
       "3390                                   2293.0   \n",
       "\n",
       "      LME TIN       3MO ($) (LMSNDS03 Comdty)  \\\n",
       "0                                       16950   \n",
       "1                                       17450   \n",
       "2                                       17375   \n",
       "3                                       17825   \n",
       "4                                       17475   \n",
       "...                                       ...   \n",
       "3386                                    23934   \n",
       "3387                                    23934   \n",
       "3388                                    24734   \n",
       "3389                                    24915   \n",
       "3390                                    24808   \n",
       "\n",
       "      Generic 1st 'CL' Future (CL1 Comdty)  \n",
       "0                                    79.36  \n",
       "1                                    81.51  \n",
       "2                                    81.77  \n",
       "3                                    83.18  \n",
       "4                                    82.66  \n",
       "...                                    ...  \n",
       "3386                                 79.56  \n",
       "3387                                 79.53  \n",
       "3388                                 78.96  \n",
       "3389                                 78.40  \n",
       "3390                                 80.26  \n",
       "\n",
       "[3391 rows x 7 columns]"
      ]
     },
     "execution_count": 3,
     "metadata": {},
     "output_type": "execute_result"
    }
   ],
   "source": [
    "# Convert \"Dates\" column to datetime format, European date format\n",
    "# df[\"Dates\"] = pd.to_datetime(df[\"Dates\"], dayfirst=True)\n",
    "\n",
    "# # Display the first few rows\n",
    "# df"
   ]
  },
  {
   "attachments": {},
   "cell_type": "markdown",
   "metadata": {},
   "source": [
    "The data has been read in \"wide format\". According to the instructions, we'd like to save it in \"long format\" in the SQL database, therefore me need to transform the pandas dataframe to long format\n"
   ]
  },
  {
   "cell_type": "code",
   "execution_count": 4,
   "metadata": {},
   "outputs": [
    {
     "data": {
      "text/html": [
       "<div>\n",
       "<style scoped>\n",
       "    .dataframe tbody tr th:only-of-type {\n",
       "        vertical-align: middle;\n",
       "    }\n",
       "\n",
       "    .dataframe tbody tr th {\n",
       "        vertical-align: top;\n",
       "    }\n",
       "\n",
       "    .dataframe thead th {\n",
       "        text-align: right;\n",
       "    }\n",
       "</style>\n",
       "<table border=\"1\" class=\"dataframe\">\n",
       "  <thead>\n",
       "    <tr style=\"text-align: right;\">\n",
       "      <th></th>\n",
       "      <th>Dates</th>\n",
       "      <th>Metal</th>\n",
       "      <th>Price</th>\n",
       "    </tr>\n",
       "  </thead>\n",
       "  <tbody>\n",
       "    <tr>\n",
       "      <th>0</th>\n",
       "      <td>2010-01-01</td>\n",
       "      <td>LME COPPER    3MO ($) (LMCADS03 Comdty)</td>\n",
       "      <td>7375.00</td>\n",
       "    </tr>\n",
       "    <tr>\n",
       "      <th>1</th>\n",
       "      <td>2010-01-04</td>\n",
       "      <td>LME COPPER    3MO ($) (LMCADS03 Comdty)</td>\n",
       "      <td>7500.00</td>\n",
       "    </tr>\n",
       "    <tr>\n",
       "      <th>2</th>\n",
       "      <td>2010-01-05</td>\n",
       "      <td>LME COPPER    3MO ($) (LMCADS03 Comdty)</td>\n",
       "      <td>7485.00</td>\n",
       "    </tr>\n",
       "    <tr>\n",
       "      <th>3</th>\n",
       "      <td>2010-01-06</td>\n",
       "      <td>LME COPPER    3MO ($) (LMCADS03 Comdty)</td>\n",
       "      <td>7660.00</td>\n",
       "    </tr>\n",
       "    <tr>\n",
       "      <th>4</th>\n",
       "      <td>2010-01-07</td>\n",
       "      <td>LME COPPER    3MO ($) (LMCADS03 Comdty)</td>\n",
       "      <td>7535.00</td>\n",
       "    </tr>\n",
       "    <tr>\n",
       "      <th>...</th>\n",
       "      <td>...</td>\n",
       "      <td>...</td>\n",
       "      <td>...</td>\n",
       "    </tr>\n",
       "    <tr>\n",
       "      <th>20341</th>\n",
       "      <td>2022-12-26</td>\n",
       "      <td>Generic 1st 'CL' Future (CL1 Comdty)</td>\n",
       "      <td>79.56</td>\n",
       "    </tr>\n",
       "    <tr>\n",
       "      <th>20342</th>\n",
       "      <td>2022-12-27</td>\n",
       "      <td>Generic 1st 'CL' Future (CL1 Comdty)</td>\n",
       "      <td>79.53</td>\n",
       "    </tr>\n",
       "    <tr>\n",
       "      <th>20343</th>\n",
       "      <td>2022-12-28</td>\n",
       "      <td>Generic 1st 'CL' Future (CL1 Comdty)</td>\n",
       "      <td>78.96</td>\n",
       "    </tr>\n",
       "    <tr>\n",
       "      <th>20344</th>\n",
       "      <td>2022-12-29</td>\n",
       "      <td>Generic 1st 'CL' Future (CL1 Comdty)</td>\n",
       "      <td>78.40</td>\n",
       "    </tr>\n",
       "    <tr>\n",
       "      <th>20345</th>\n",
       "      <td>2022-12-30</td>\n",
       "      <td>Generic 1st 'CL' Future (CL1 Comdty)</td>\n",
       "      <td>80.26</td>\n",
       "    </tr>\n",
       "  </tbody>\n",
       "</table>\n",
       "<p>20346 rows × 3 columns</p>\n",
       "</div>"
      ],
      "text/plain": [
       "           Dates                                    Metal    Price\n",
       "0     2010-01-01  LME COPPER    3MO ($) (LMCADS03 Comdty)  7375.00\n",
       "1     2010-01-04  LME COPPER    3MO ($) (LMCADS03 Comdty)  7500.00\n",
       "2     2010-01-05  LME COPPER    3MO ($) (LMCADS03 Comdty)  7485.00\n",
       "3     2010-01-06  LME COPPER    3MO ($) (LMCADS03 Comdty)  7660.00\n",
       "4     2010-01-07  LME COPPER    3MO ($) (LMCADS03 Comdty)  7535.00\n",
       "...          ...                                      ...      ...\n",
       "20341 2022-12-26     Generic 1st 'CL' Future (CL1 Comdty)    79.56\n",
       "20342 2022-12-27     Generic 1st 'CL' Future (CL1 Comdty)    79.53\n",
       "20343 2022-12-28     Generic 1st 'CL' Future (CL1 Comdty)    78.96\n",
       "20344 2022-12-29     Generic 1st 'CL' Future (CL1 Comdty)    78.40\n",
       "20345 2022-12-30     Generic 1st 'CL' Future (CL1 Comdty)    80.26\n",
       "\n",
       "[20346 rows x 3 columns]"
      ]
     },
     "execution_count": 4,
     "metadata": {},
     "output_type": "execute_result"
    }
   ],
   "source": [
    "# Use melt() to transform from wide to long format\n",
    "# df_long = df.melt(id_vars=['Dates'], var_name='Metal', value_name='Price')\n",
    "# df_long"
   ]
  },
  {
   "cell_type": "code",
   "execution_count": 2,
   "metadata": {},
   "outputs": [],
   "source": [
    "# Import sqlalchemy packages\n",
    "from sqlalchemy import create_engine, inspect, Column, Integer, String, Float, DateTime\n",
    "from sqlalchemy.orm import declarative_base, sessionmaker\n",
    "from sqlalchemy import create_engine\n"
   ]
  },
  {
   "cell_type": "code",
   "execution_count": 3,
   "metadata": {},
   "outputs": [],
   "source": [
    "# Define the database URI\n",
    "engine = create_engine('sqlite:///metal_prices.db')"
   ]
  },
  {
   "attachments": {},
   "cell_type": "markdown",
   "metadata": {},
   "source": [
    "Define SQL Table Schema"
   ]
  },
  {
   "attachments": {},
   "cell_type": "markdown",
   "metadata": {},
   "source": [
    "Connect to SQL Database Using SQLAlchemy"
   ]
  },
  {
   "cell_type": "code",
   "execution_count": 4,
   "metadata": {},
   "outputs": [],
   "source": [
    "# Define ORM model to easily access the data\n",
    "Base = declarative_base()\n",
    "\n",
    "class MetalPrice(Base):\n",
    "    __tablename__ = 'metal_prices'\n",
    "\n",
    "    Dates = Column(DateTime, primary_key=True)\n",
    "    Metal = Column(String, primary_key=True)\n",
    "    Price = Column(Float)\n",
    "\n",
    "Base.metadata.create_all(engine)"
   ]
  },
  {
   "attachments": {},
   "cell_type": "markdown",
   "metadata": {},
   "source": [
    "I think I am not meant to populate the table at this stage so please skip this cell!"
   ]
  },
  {
   "cell_type": "code",
   "execution_count": 15,
   "metadata": {},
   "outputs": [
    {
     "data": {
      "text/plain": [
       "20346"
      ]
     },
     "execution_count": 15,
     "metadata": {},
     "output_type": "execute_result"
    }
   ],
   "source": [
    "# Write to database\n",
    "# df_long.to_sql('metal_prices', con=engine, if_exists='replace', index=False)"
   ]
  },
  {
   "attachments": {},
   "cell_type": "markdown",
   "metadata": {},
   "source": [
    "Perform CRUD Operations in SQLAlchemy. First query data from the database"
   ]
  },
  {
   "cell_type": "code",
   "execution_count": 5,
   "metadata": {},
   "outputs": [],
   "source": [
    "# Create session factory\n",
    "Session = sessionmaker(bind=engine)"
   ]
  },
  {
   "attachments": {},
   "cell_type": "markdown",
   "metadata": {},
   "source": [
    "Print out first 10 rows of the dataframe from the database."
   ]
  },
  {
   "cell_type": "code",
   "execution_count": 6,
   "metadata": {},
   "outputs": [],
   "source": [
    "with Session() as session:\n",
    "\n",
    "    results = session.query(MetalPrice).all()\n",
    "\n",
    "    # Print each row\n",
    "    for row in results[:10]:\n",
    "        print(f\"Dates: {row.Dates}, Metal: {row.Metal}, Price: {row.Price}\")"
   ]
  },
  {
   "attachments": {},
   "cell_type": "markdown",
   "metadata": {},
   "source": [
    "Create (Insert New Data)"
   ]
  },
  {
   "cell_type": "code",
   "execution_count": 7,
   "metadata": {},
   "outputs": [],
   "source": [
    "# Create\n",
    "with Session() as session:\n",
    "    obj = MetalPrice(Dates=date(2020,1,1), Metal='Gold', Price=1000)\n",
    "    session.add(obj)\n",
    "    session.commit()"
   ]
  },
  {
   "cell_type": "code",
   "execution_count": 8,
   "metadata": {},
   "outputs": [
    {
     "name": "stdout",
     "output_type": "stream",
     "text": [
      "Dates: 2020-01-01 00:00:00, Metal: Gold, Price: 1000.0\n"
     ]
    }
   ],
   "source": [
    "with Session() as session:\n",
    "\n",
    "    results = session.query(MetalPrice).all()\n",
    "\n",
    "    # Print each row\n",
    "    for row in results[-10:]:\n",
    "        print(f\"Dates: {row.Dates}, Metal: {row.Metal}, Price: {row.Price}\")"
   ]
  },
  {
   "cell_type": "code",
   "execution_count": 9,
   "metadata": {},
   "outputs": [
    {
     "name": "stdout",
     "output_type": "stream",
     "text": [
      "2020-01-01 00:00:00 Gold 1000.0\n"
     ]
    }
   ],
   "source": [
    "# Read\n",
    "with Session() as session:\n",
    "    obj = session.query(MetalPrice).filter(MetalPrice.Metal == \"Gold\").first()\n",
    "    print(obj.Dates, obj.Metal, obj.Price)"
   ]
  },
  {
   "attachments": {},
   "cell_type": "markdown",
   "metadata": {},
   "source": [
    "Update Data"
   ]
  },
  {
   "cell_type": "code",
   "execution_count": 10,
   "metadata": {},
   "outputs": [],
   "source": [
    "# Update\n",
    "with Session() as session:\n",
    "    obj = session.query(MetalPrice).filter(MetalPrice.Metal == \"Gold\").first()\n",
    "    obj.Price=2000\n",
    "    session.commit()"
   ]
  },
  {
   "cell_type": "code",
   "execution_count": 11,
   "metadata": {},
   "outputs": [
    {
     "name": "stdout",
     "output_type": "stream",
     "text": [
      "2020-01-01 00:00:00 Gold 2000.0\n"
     ]
    }
   ],
   "source": [
    "# Read\n",
    "with Session() as session:\n",
    "    obj = session.query(MetalPrice).filter(MetalPrice.Metal == \"Gold\").first()\n",
    "    print(obj.Dates, obj.Metal, obj.Price)"
   ]
  },
  {
   "attachments": {},
   "cell_type": "markdown",
   "metadata": {},
   "source": [
    "Delete Data"
   ]
  },
  {
   "cell_type": "code",
   "execution_count": 12,
   "metadata": {},
   "outputs": [],
   "source": [
    "# Delete\n",
    "with Session() as session:\n",
    "    obj = session.query(MetalPrice).filter(MetalPrice.Metal == \"Gold\").first()\n",
    "    session.delete(obj)\n",
    "    session.commit()"
   ]
  },
  {
   "attachments": {},
   "cell_type": "markdown",
   "metadata": {},
   "source": [
    "Let's check if gold is still there:"
   ]
  },
  {
   "cell_type": "code",
   "execution_count": 13,
   "metadata": {},
   "outputs": [],
   "source": [
    "with Session() as session:\n",
    "\n",
    "    results = session.query(MetalPrice).all()\n",
    "\n",
    "    # Print each row\n",
    "    for row in results:\n",
    "        print(f\"Dates: {row.Dates}, Metal: {row.Metal}, Price: {row.Price}\")"
   ]
  },
  {
   "attachments": {},
   "cell_type": "markdown",
   "metadata": {},
   "source": [
    "Originally, I populated the database with the content of the CSV file, therefore I'll migrate the contents and empty the original table"
   ]
  },
  {
   "cell_type": "code",
   "execution_count": 20,
   "metadata": {},
   "outputs": [],
   "source": [
    "from sqlalchemy import MetaData\n",
    "\n",
    "# Drop the existing table\n",
    "meta = MetaData()\n",
    "meta.reflect(bind=engine)\n",
    "metal_prices_table = meta.tables['metal_prices']\n",
    "metal_prices_table.drop(bind=engine)\n",
    "\n",
    "# Recreate the table with the updated model\n",
    "Base.metadata.create_all(engine)"
   ]
  }
 ],
 "metadata": {
  "kernelspec": {
   "display_name": "finance",
   "language": "python",
   "name": "python3"
  },
  "language_info": {
   "codemirror_mode": {
    "name": "ipython",
    "version": 3
   },
   "file_extension": ".py",
   "mimetype": "text/x-python",
   "name": "python",
   "nbconvert_exporter": "python",
   "pygments_lexer": "ipython3",
   "version": "3.11.9"
  },
  "orig_nbformat": 4
 },
 "nbformat": 4,
 "nbformat_minor": 2
}
